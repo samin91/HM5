{
 "cells": [
  {
   "cell_type": "code",
   "execution_count": 3,
   "metadata": {},
   "outputs": [],
   "source": [
    "import pandas as pd\n",
    "import numpy as np\n",
    "import warnings\n",
    "warnings.filterwarnings(\"ignore\")"
   ]
  },
  {
   "cell_type": "code",
   "execution_count": 4,
   "metadata": {},
   "outputs": [],
   "source": [
    "df = pd.read_csv('wiki-topcats-reduced.txt', sep=r'\\t', header=None,  names=[\"start_vertex\", \"end_vertex\"])"
   ]
  },
  {
   "cell_type": "code",
   "execution_count": 3,
   "metadata": {},
   "outputs": [],
   "source": [
    "#df = data.rename(columns={'0': 'start_vertex', '1': 'old_vertex'})"
   ]
  },
  {
   "cell_type": "code",
   "execution_count": 5,
   "metadata": {},
   "outputs": [
    {
     "data": {
      "text/html": [
       "<div>\n",
       "<style scoped>\n",
       "    .dataframe tbody tr th:only-of-type {\n",
       "        vertical-align: middle;\n",
       "    }\n",
       "\n",
       "    .dataframe tbody tr th {\n",
       "        vertical-align: top;\n",
       "    }\n",
       "\n",
       "    .dataframe thead th {\n",
       "        text-align: right;\n",
       "    }\n",
       "</style>\n",
       "<table border=\"1\" class=\"dataframe\">\n",
       "  <thead>\n",
       "    <tr style=\"text-align: right;\">\n",
       "      <th></th>\n",
       "      <th>start_vertex</th>\n",
       "      <th>end_vertex</th>\n",
       "    </tr>\n",
       "  </thead>\n",
       "  <tbody>\n",
       "    <tr>\n",
       "      <th>0</th>\n",
       "      <td>52</td>\n",
       "      <td>401135</td>\n",
       "    </tr>\n",
       "    <tr>\n",
       "      <th>1</th>\n",
       "      <td>52</td>\n",
       "      <td>1069112</td>\n",
       "    </tr>\n",
       "    <tr>\n",
       "      <th>2</th>\n",
       "      <td>52</td>\n",
       "      <td>1163551</td>\n",
       "    </tr>\n",
       "    <tr>\n",
       "      <th>3</th>\n",
       "      <td>62</td>\n",
       "      <td>12162</td>\n",
       "    </tr>\n",
       "    <tr>\n",
       "      <th>4</th>\n",
       "      <td>62</td>\n",
       "      <td>167659</td>\n",
       "    </tr>\n",
       "  </tbody>\n",
       "</table>\n",
       "</div>"
      ],
      "text/plain": [
       "   start_vertex  end_vertex\n",
       "0            52      401135\n",
       "1            52     1069112\n",
       "2            52     1163551\n",
       "3            62       12162\n",
       "4            62      167659"
      ]
     },
     "execution_count": 5,
     "metadata": {},
     "output_type": "execute_result"
    }
   ],
   "source": [
    "df.head()"
   ]
  },
  {
   "cell_type": "markdown",
   "metadata": {},
   "source": [
    "__Number of Edges__"
   ]
  },
  {
   "cell_type": "code",
   "execution_count": 57,
   "metadata": {},
   "outputs": [
    {
     "data": {
      "text/plain": [
       "2645247"
      ]
     },
     "execution_count": 57,
     "metadata": {},
     "output_type": "execute_result"
    }
   ],
   "source": [
    "edges=df.shape\n",
    "num_of_edges = edges[0]\n",
    "num_of_edges"
   ]
  },
  {
   "cell_type": "markdown",
   "metadata": {},
   "source": [
    "__Number of Nodes__"
   ]
  },
  {
   "cell_type": "code",
   "execution_count": 22,
   "metadata": {},
   "outputs": [],
   "source": [
    "source = set(df['start_vertex'].values)\n",
    "destination = set(df['end_vertex'].values)"
   ]
  },
  {
   "cell_type": "code",
   "execution_count": 26,
   "metadata": {},
   "outputs": [
    {
     "name": "stdout",
     "output_type": "stream",
     "text": [
      "428957\n",
      "352518\n"
     ]
    }
   ],
   "source": [
    "print(len(source))\n",
    "print(len(destination))"
   ]
  },
  {
   "cell_type": "code",
   "execution_count": 60,
   "metadata": {},
   "outputs": [
    {
     "data": {
      "text/plain": [
       "140911"
      ]
     },
     "execution_count": 60,
     "metadata": {},
     "output_type": "execute_result"
    }
   ],
   "source": [
    "Intersection_ = source.intersection(destination)\n",
    "union_ = source.union(destination)\n",
    "nodes = union_ - Intersection_\n",
    "num_of_nodes = len(nodes)\n",
    "num_of_nodes"
   ]
  },
  {
   "cell_type": "markdown",
   "metadata": {},
   "source": [
    "__Checking to see if our graph is directed?__"
   ]
  },
  {
   "cell_type": "code",
   "execution_count": 33,
   "metadata": {},
   "outputs": [],
   "source": [
    "out_Link = df.groupby(['start_vertex'])['end_vertex'].apply(list).to_dict() #{54:[123, 124]} from 54 to 123 and 124\n",
    "#{k: list(v) for k, v in df.groupby('Column1')['Column3']}"
   ]
  },
  {
   "cell_type": "code",
   "execution_count": 34,
   "metadata": {},
   "outputs": [],
   "source": [
    "in_Link = df.groupby(['end_vertex'])['start_vertex'].apply(list).to_dict()\n",
    "#{k: list(v) for k, v in df.groupby('Column1')['Column3']}"
   ]
  },
  {
   "cell_type": "code",
   "execution_count": 53,
   "metadata": {},
   "outputs": [
    {
     "name": "stdout",
     "output_type": "stream",
     "text": [
      "249369\n"
     ]
    }
   ],
   "source": [
    "intersect_ = {}\n",
    "intersect = 0\n",
    "for item in out_Link.keys(  ):\n",
    "    if item in in_Link.keys():\n",
    "        intersect = set(out_Link[item]).intersection(set(in_Link[item]))\n",
    "        if len(intersect)>0:   \n",
    "            intersect_[item] = set(out_Link[item]).intersection(set(in_Link[item]))\n",
    "print(len(intersect_))"
   ]
  },
  {
   "cell_type": "markdown",
   "metadata": {},
   "source": [
    "__The average node degree__"
   ]
  },
  {
   "cell_type": "code",
   "execution_count": 54,
   "metadata": {},
   "outputs": [
    {
     "name": "stdout",
     "output_type": "stream",
     "text": [
      "37\n"
     ]
    }
   ],
   "source": [
    "average_degree = (2*(num_of_edges))//num_of_nodes\n",
    "print(average_degree)"
   ]
  },
  {
   "cell_type": "markdown",
   "metadata": {},
   "source": [
    "__Checking if our graph is a sparse grapg?__"
   ]
  },
  {
   "cell_type": "code",
   "execution_count": 64,
   "metadata": {},
   "outputs": [
    {
     "data": {
      "text/plain": [
       "0.0001332230949437299"
      ]
     },
     "execution_count": 64,
     "metadata": {},
     "output_type": "execute_result"
    }
   ],
   "source": [
    "D = num_of_edges/(num_of_nodes*(num_of_nodes-1))\n",
    "D"
   ]
  },
  {
   "cell_type": "code",
   "execution_count": null,
   "metadata": {},
   "outputs": [],
   "source": []
  },
  {
   "cell_type": "code",
   "execution_count": 45,
   "metadata": {},
   "outputs": [],
   "source": [
    "df1 = pd.read_csv('wiki-topcats-page-names.txt', sep=\"\\t\", header=None,  names=[\"page_name\"])"
   ]
  },
  {
   "cell_type": "code",
   "execution_count": 46,
   "metadata": {},
   "outputs": [
    {
     "data": {
      "text/html": [
       "<div>\n",
       "<style scoped>\n",
       "    .dataframe tbody tr th:only-of-type {\n",
       "        vertical-align: middle;\n",
       "    }\n",
       "\n",
       "    .dataframe tbody tr th {\n",
       "        vertical-align: top;\n",
       "    }\n",
       "\n",
       "    .dataframe thead th {\n",
       "        text-align: right;\n",
       "    }\n",
       "</style>\n",
       "<table border=\"1\" class=\"dataframe\">\n",
       "  <thead>\n",
       "    <tr style=\"text-align: right;\">\n",
       "      <th></th>\n",
       "      <th>page_name</th>\n",
       "    </tr>\n",
       "  </thead>\n",
       "  <tbody>\n",
       "    <tr>\n",
       "      <th>0</th>\n",
       "      <td>0 Chiasmal syndrome</td>\n",
       "    </tr>\n",
       "    <tr>\n",
       "      <th>1</th>\n",
       "      <td>1 Kleroterion</td>\n",
       "    </tr>\n",
       "    <tr>\n",
       "      <th>2</th>\n",
       "      <td>2 Pinakion</td>\n",
       "    </tr>\n",
       "    <tr>\n",
       "      <th>3</th>\n",
       "      <td>3 LyndonHochschildSerre spectral sequence</td>\n",
       "    </tr>\n",
       "    <tr>\n",
       "      <th>4</th>\n",
       "      <td>4 Zariski's main theorem</td>\n",
       "    </tr>\n",
       "  </tbody>\n",
       "</table>\n",
       "</div>"
      ],
      "text/plain": [
       "                                   page_name\n",
       "0                        0 Chiasmal syndrome\n",
       "1                              1 Kleroterion\n",
       "2                                 2 Pinakion\n",
       "3  3 LyndonHochschildSerre spectral sequence\n",
       "4                   4 Zariski's main theorem"
      ]
     },
     "execution_count": 46,
     "metadata": {},
     "output_type": "execute_result"
    }
   ],
   "source": [
    "df1.head()"
   ]
  },
  {
   "cell_type": "code",
   "execution_count": 47,
   "metadata": {},
   "outputs": [
    {
     "data": {
      "text/html": [
       "<div>\n",
       "<style scoped>\n",
       "    .dataframe tbody tr th:only-of-type {\n",
       "        vertical-align: middle;\n",
       "    }\n",
       "\n",
       "    .dataframe tbody tr th {\n",
       "        vertical-align: top;\n",
       "    }\n",
       "\n",
       "    .dataframe thead th {\n",
       "        text-align: right;\n",
       "    }\n",
       "</style>\n",
       "<table border=\"1\" class=\"dataframe\">\n",
       "  <thead>\n",
       "    <tr style=\"text-align: right;\">\n",
       "      <th></th>\n",
       "      <th>page_name</th>\n",
       "    </tr>\n",
       "  </thead>\n",
       "  <tbody>\n",
       "    <tr>\n",
       "      <th>0</th>\n",
       "      <td>Chiasmal syndrome</td>\n",
       "    </tr>\n",
       "    <tr>\n",
       "      <th>1</th>\n",
       "      <td>Kleroterion</td>\n",
       "    </tr>\n",
       "    <tr>\n",
       "      <th>2</th>\n",
       "      <td>Pinakion</td>\n",
       "    </tr>\n",
       "    <tr>\n",
       "      <th>3</th>\n",
       "      <td>LyndonHochschildSerre spectral sequence</td>\n",
       "    </tr>\n",
       "    <tr>\n",
       "      <th>4</th>\n",
       "      <td>Zariski's main theorem</td>\n",
       "    </tr>\n",
       "  </tbody>\n",
       "</table>\n",
       "</div>"
      ],
      "text/plain": [
       "                                 page_name\n",
       "0                        Chiasmal syndrome\n",
       "1                              Kleroterion\n",
       "2                                 Pinakion\n",
       "3  LyndonHochschildSerre spectral sequence\n",
       "4                   Zariski's main theorem"
      ]
     },
     "execution_count": 47,
     "metadata": {},
     "output_type": "execute_result"
    }
   ],
   "source": [
    "df1['page_name'] = df1['page_name'].apply(lambda x: x[2:])\n",
    "df1.head()"
   ]
  },
  {
   "cell_type": "code",
   "execution_count": 48,
   "metadata": {},
   "outputs": [
    {
     "data": {
      "text/html": [
       "<div>\n",
       "<style scoped>\n",
       "    .dataframe tbody tr th:only-of-type {\n",
       "        vertical-align: middle;\n",
       "    }\n",
       "\n",
       "    .dataframe tbody tr th {\n",
       "        vertical-align: top;\n",
       "    }\n",
       "\n",
       "    .dataframe thead th {\n",
       "        text-align: right;\n",
       "    }\n",
       "</style>\n",
       "<table border=\"1\" class=\"dataframe\">\n",
       "  <thead>\n",
       "    <tr style=\"text-align: right;\">\n",
       "      <th></th>\n",
       "      <th>page_name</th>\n",
       "      <th>page_number</th>\n",
       "    </tr>\n",
       "  </thead>\n",
       "  <tbody>\n",
       "    <tr>\n",
       "      <th>0</th>\n",
       "      <td>Chiasmal syndrome</td>\n",
       "      <td>0</td>\n",
       "    </tr>\n",
       "    <tr>\n",
       "      <th>1</th>\n",
       "      <td>Kleroterion</td>\n",
       "      <td>1</td>\n",
       "    </tr>\n",
       "    <tr>\n",
       "      <th>2</th>\n",
       "      <td>Pinakion</td>\n",
       "      <td>2</td>\n",
       "    </tr>\n",
       "    <tr>\n",
       "      <th>3</th>\n",
       "      <td>LyndonHochschildSerre spectral sequence</td>\n",
       "      <td>3</td>\n",
       "    </tr>\n",
       "    <tr>\n",
       "      <th>4</th>\n",
       "      <td>Zariski's main theorem</td>\n",
       "      <td>4</td>\n",
       "    </tr>\n",
       "  </tbody>\n",
       "</table>\n",
       "</div>"
      ],
      "text/plain": [
       "                                 page_name  page_number\n",
       "0                        Chiasmal syndrome            0\n",
       "1                              Kleroterion            1\n",
       "2                                 Pinakion            2\n",
       "3  LyndonHochschildSerre spectral sequence            3\n",
       "4                   Zariski's main theorem            4"
      ]
     },
     "execution_count": 48,
     "metadata": {},
     "output_type": "execute_result"
    }
   ],
   "source": [
    "df1['page_number'] = df1.index\n",
    "df1.head()"
   ]
  },
  {
   "cell_type": "code",
   "execution_count": 49,
   "metadata": {},
   "outputs": [
    {
     "data": {
      "text/plain": [
       "pandas.core.series.Series"
      ]
     },
     "execution_count": 49,
     "metadata": {},
     "output_type": "execute_result"
    }
   ],
   "source": [
    "type(df1['page_name'])"
   ]
  },
  {
   "cell_type": "code",
   "execution_count": 56,
   "metadata": {},
   "outputs": [
    {
     "data": {
      "text/plain": [
       "17364"
      ]
     },
     "execution_count": 56,
     "metadata": {},
     "output_type": "execute_result"
    }
   ],
   "source": [
    "file = open('wiki-topcats-categories.txt')\n",
    "cat = file.readlines()\n",
    "len(cat)  "
   ]
  },
  {
   "cell_type": "code",
   "execution_count": 58,
   "metadata": {},
   "outputs": [
    {
     "data": {
      "text/plain": [
       "['Category:Buprestoidea; 301 302 303 304 305 306 307 308 309 310 311 312 313 314 315 316 317 318 319 320 321 322 323 324 325 326 327 328 329 330 331 332 333 334 335 336 337 338 339 340 341 342 343 344 345 346 347 348 349 350 351 352 353 354 355 356 357 358 359 360 361 362 363 364 365 366 367 368 369 370 371 372 373 374 375 376 377 378 379 380 381 382 383 384 385 386 387 388 389 390 391 392 393 394 395 396 397 398 399 400 401 402 403 404 405 406 407 408 409 410 411 412 413 414 415 416 417 418 419 420 421 422 423 424 425 426 427 428 429 430 431 432 433 434 435 436 437 438 439 440 441 442 443 444 445 446 447 448 449 450 451 452 453 454 455 456 457 458 459 460 461 462 463 464 465 466 467 468 469 470 471 472 473 474 475 476 477 478 479 480 481 482 483 484 485 486 487 488 489 490 491 492 493 494 495 496 497 498 499 500 501 502 503 504 505 506 507 508 509 510 511 512 513 514 515 516 517 518 519 520 521 522 523 524 525 526 527 528 529 530 531 532 533 534 535 536 537 538 539 540 541 542 543 544 545 546 547 548 549 550 551 552 553 554 555 556 557 558 559 560 561 562 563 564 565 566 567 568 569 570 571 572 573 574 575 576 577 578 579 580 581 582 583 584 585 586 587 588 589 590 591 592 593 594 595 596 597 598 599 600 601 602 603 604 605 606 607 608 609 610 611 612 613 614 615 616 617 618 619 620 621 622 623 624 625 626 627 628 629 630 631 632 633 634 635 636 637 638 639 640 641 642 643 644 645 646 647 648 649 650 651 652 653 654 655 656 657 658 659 660 661 662 663 664 665 666 667 668 669 670 671 672 673 674 675 676 677 678 679 680 681 682 683 684 685 686 687 688 689 690 691 692 693 694 695 696 697 698 699 700 701 702 703 704 705 706 707 708 709 710 711 712 713 714 715 716 717 718 719 720 721 722 723 724 725 726 727 728 729 730 731 732 733 734 735 736 737 738 739 740 741 742 743 744 745 746 747 748 749 750 751 752 753 754 755 756 757 758 759 760 761 762 763 764 765 766 767 768 769 770 771 772 773 774 775 776 777 778 779 780 781 782 783 784 785 786 787 788 789 790 791 792 793 794 795 796 797 798 799 800 801 802 803 804 805 806 807 808 809 810 811 812 813 814 815 816 817 818 819 820 821 822 823 824 825 826 827 828 829 830 831 832 833 834 835 836 837 838 839 840 841 842 1791374\\n',\n",
       " 'Category:People_from_Worcester; 1056 1057 1058 1059 1060 60971 76515 76871 78094 79069 79139 79143 80237 84108 84354 84740 85268 85767 89734 90171 95330 158412 166087 194583 196217 216650 216770 348758 350247 350259 350608 372883 377480 437692 449761 449809 454664 494420 499532 527094 537220 538870 540020 541169 544700 544701 544738 544888 546749 654238 669757 721089 721539 791902 799357 826926 827472 827479 830268 883273 919797 971629 979026 995033 998609 1011834 1033464 1043638 1043983 1047370 1112567 1142375 1143260 1170545 1178634 1194242 1260349 1284729 1287891 1287952 1342966 1343202 1385068 1390440 1445619 1470844 1472916 1499171 1506216 1516445 1525160 1525827 1527616 1565695 1568124 1610622 1646864 1653449 1667832 1715203 1779646 1780461 1781093\\n',\n",
       " 'Category:Skin_conditions_resulting_from_physical_factors; 971 973 1166 1167 1168 1169 1170 1171 1172 1173 1174 1175 1176 1177 2810 3574 5230 5319 6358 6970 8220 8587 9120 9201 9348 9440 9495 9636 9642 10053 10897 11564 12184 15516 40429 150415 354222 354224 369562 428725 851858 885574 1003941 1032218 1073413 1087184 1240875 1293461 1316419 1364950 1378135 1378136 1450546 1450547 1475467 1523943 1523944 1523945 1523946 1584014 1631187 1631188 1663489 1692063 1692064 1705410 1705411 1705412 1713424\\n',\n",
       " 'Category:Visual_kei_bands; 1297 1300 1311 1312 1313 1314 1315 1316 1319 1320 1321 1322 1323 1324 1325 1326 1327 1328 1329 1330 1331 1332 1333 1334 1335 1336 1337 1338 1339 1340 1341 1342 1343 1345 1346 1348 1349 1350 1351 1352 1353 1354 1356 1357 1358 1359 1361 1363 1364 1365 1366 1367 1368 1369 1371 1372 1374 1375 1376 1377 1378 1380 1383 1385 1387 1390 1393 1395 1403 1404 1410 1411 1418 1427 1429 1431 1435 1440 1441 1446 1455 1461 1466 1473 1513 562072 604876 604884 604888 635747 657073 719336 751685 773402 800357 883789 1002565 1230384 1368113 1627518 1747657 1754961 1763149\\n',\n",
       " 'Category:Japanese_rock_music_groups; 1297 1300 1313 1314 1315 1316 1319 1320 1322 1323 1324 1325 1326 1327 1330 1334 1335 1337 1339 1341 1342 1343 1345 1346 1349 1351 1352 1353 1356 1357 1358 1359 1360 1361 1363 1365 1366 1367 1368 1371 1374 1375 1376 1377 1380 1383 1385 1387 1389 1390 1392 1395 1396 1397 1399 1400 1402 1408 1409 1414 1417 1418 1422 1424 1425 1426 1427 1430 1431 1434 1436 1437 1439 1440 1441 1455 1469 1488 1491 1492 1499 1500 1501 1506 1509 1513 140768 151198 153001 153029 153031 153036 153504 154490 208880 310454 395576 451504 522949 559569 562292 564607 604876 604884 604888 635741 635742 635747 651191 651200 657073 676478 689452 691204 694134 694156 694844 705049 705061 718774 719336 724416 734210 739279 741099 742287 749516 751685 766458 767654 767663 768628 773402 776290 776470 803399 837951 883789 892984 893295 930693 941824 968888 994965 1015175 1071413 1074528 1172840 1180772 1189675 1191705 1191722 1191729 1191773 1191793 1191802 1191803 1191830 1191834 1191846 1191865 1191872 1191892 1191894 1191968 1191982 1200999 1201661 1223001 1223386 1228101 1228765 1230067 1230384 1287627 1291827 1316303 1316323 1316336 1338983 1365308 1371483 1378964 1429259 1450748 1469725 1471827 1471852 1480239 1514308 1514474 1550997 1558831 1559530 1559624 1569632 1584034 1603244 1603704 1624678 1626820 1627203 1627205 1627232 1627235 1627518 1689739 1717461 1720375 1742964 1745126 1747547 1747565 1747644 1747657 1747919 1747921 1747926 1748616 1749160 1749503 1750117 1750118 1754829 1754956 1754961 1758209 1758884 1759782 1789458\\n',\n",
       " 'Category:Laboulbeniomycetes; 1941 1942 1943 1944 1945 1947 1948 1949 1950 1951 1952 1953 1954 1955 1956 1957 1958 1959 1960 1961 1962 1963 1964 1965 1966 1967 1968 1969 1970 1971 1972 1973 1974 1975 1976 1977 1978 1979 1980 1981 1982 1983 1984 1985 1986 1987 1988 1989 1990 1991 1992 1993 1994 1995 1996 1997 1998 1999 2001 2002 2003 2004 2005 2006 2007 2008 2009 2010 2011 2012 2013 2014 2015 2016 2017 2018 2019 2020 2021 2022 2023 2024 2025 2026 2027 2028 2029 2030 2032 2033 2034 2035 2037 2038 2039 2040 2041 2042 2043 2044 2045 2046 2047 2048 2049 2051 2052 2053 2054 2055 2056 2057 2058 2059 2060 2061 2062 2063 2064 2065 2066 2067 2068 2069 2070 2071 2072 2073 2074 2076 2077 2078 2079 2080 2081 2082 2083 2084 2085 2086 2087 2088\\n',\n",
       " 'Category:Eye_anatomy; 2168 2702 2704 2705 2706 2707 2708 2709 2710 2711 2712 2713 2714 2715 2716 2717 2719 2818 2833 3076 3093 3153 3218 3219 3220 3221 3223 4107 4864 10696 10697 10704 10708 10711 10712 10716 10719 10724 10728 10729 10730 10733 10735 10736 10737 10738 10742 10745 10749 10751 10760 10770 10785 13951 24073 24289 24294 24295 24296 24297 24299 24300 24301 24333 24334 24343 24345 24357 24364 24366 24367 24369 24379 24380 24381 24422 503197 503705 503905 646985 720257 727276 727289 727293 768532 832585 832586 890000 890001 940850 1079845 1318554 1318555 1318556 1318557 1318558 1318559 1318560 1481644 1633031 1676546 1676734 1676780 1676781 1751285 1763555 1772369\\n',\n",
       " 'Category:Nervous_system; 951 1234 1806 2270 2336 2341 2398 2414 2415 2483 2514 2735 2736 2748 2749 2751 2765 2767 2768 2792 2794 2798 2799 2801 2805 2822 2825 2829 2837 2848 2855 2856 2857 2858 2864 2904 2943 2967 2971 2974 2981 2982 2985 2997 3011 3024 3027 3028 3033 3043 3044 3060 3075 3086 3099 3112 3138 3142 3156 3181 3338 3339 3340 3341 3343 3344 3349 3359 3365 3367 3370 3372 3373 3576 3582 3604 3640 3725 4108 4178 4180 4707 4866 4899 4911 4924 4975 4981 4982 4991 5357 5360 5362 5384 5398 5415 5437 5438 5444 5446 5452 5454 5470 5480 5482 6408 6955 8797 8854 10763 10774 11225 11912 11915 13048 13049 13066 13067 13104 13105 13114 13115 13132 13144 13145 13150 13157 14475 24391 24399 24608 25355 25356 32801 35774 35894 36242 36398 36400 36671 40111 40426 40427 125480 230643 499836 499837 680806 680807 680817 680819 901490 902455 1096230 1279138 1295259 1372377 1372378 1464828 1465250 1466498 1466592 1466664 1466763 1553717 1554206 1554208 1578512 1584164 1666726 1672573 1760959 1764303\\n',\n",
       " 'Category:Head_and_neck; 237 1277 1648 2298 2722 2758 2779 2814 2826 2865 2866 2867 2874 2876 2879 2882 2883 2884 2886 2887 2892 2894 2897 2903 2906 2909 2921 2935 2948 3004 3036 3110 3115 3117 3119 3144 3170 3171 3188 3189 3190 3202 3204 3216 3230 3239 3252 3254 3255 3262 3265 3593 3641 3762 4712 4886 5428 5472 5473 6922 6923 7044 8398 8423 8449 9442 9443 9455 9567 9758 9759 9760 10436 10699 10921 11088 12059 12060 12845 14317 19897 24410 24649 24650 24651 24652 26312 37213 39390 107999 108001 108002 108003 430800 443937 455839 455979 503678 505128 508207 509466 510112 512309 512326 593731 650576 659339 727280 727286 727297 727299 727300 742749 941084 1002730 1080624 1085509 1295377 1295378 1295379 1295380 1315162 1584616 1584936 1673421 1763379\\n',\n",
       " 'Category:Arteries_of_the_head_and_neck; 2726 2746 2771 2795 2804 2819 2824 2827 2830 2831 2834 2839 2840 2841 2846 2849 2859 2860 2861 2889 2893 2898 2899 2900 2901 2902 2905 2911 2912 2915 2918 2919 2920 2925 2926 2929 2931 2932 2933 2934 2937 2938 2940 2942 2970 2979 2983 2984 2998 3005 3007 3022 3032 3035 3045 3049 3053 3054 3055 3056 3058 3059 3061 3064 3081 3082 3083 3085 3087 3096 3137 3140 3152 3169 3182 3195 3246 3597 3642 3644 3652 4731 4865 4881 4882 4883 4884 4885 4895 4896 5177 13052 24344 25354 26308 26309 26311 39391 39399 107990 107991 144754 659324 710822 711534 727275 727277 727306 1364468 1585852 1585853 1633030\\n']"
      ]
     },
     "execution_count": 58,
     "metadata": {},
     "output_type": "execute_result"
    }
   ],
   "source": [
    "cat[0:10]"
   ]
  },
  {
   "cell_type": "code",
   "execution_count": null,
   "metadata": {},
   "outputs": [],
   "source": []
  }
 ],
 "metadata": {
  "kernelspec": {
   "display_name": "Python 3",
   "language": "python",
   "name": "python3"
  },
  "language_info": {
   "codemirror_mode": {
    "name": "ipython",
    "version": 3
   },
   "file_extension": ".py",
   "mimetype": "text/x-python",
   "name": "python",
   "nbconvert_exporter": "python",
   "pygments_lexer": "ipython3",
   "version": "3.7.0"
  }
 },
 "nbformat": 4,
 "nbformat_minor": 2
}
