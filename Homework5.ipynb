{
 "cells": [
  {
   "cell_type": "markdown",
   "metadata": {},
   "source": [
    "<br>\n",
    "\n",
    "# Homework 5 - Exploring Wikipedia's hyperlinks graph! <br>\n",
    "\n",
    "#### Group 27 composed of Samin Hamidi, Poompavai  Chandraprakash,  Katsiaryna Zavadskaya. "
   ]
  },
  {
   "cell_type": "code",
   "execution_count": 72,
   "metadata": {
    "collapsed": true,
    "scrolled": true
   },
   "outputs": [],
   "source": [
    "#Importing libraries we need\n",
    "import pandas as pd\n",
    "import numpy as np\n",
    "import warnings\n",
    "warnings.filterwarnings(\"ignore\")\n",
    "from collections import deque\n",
    "import random\n",
    "import math\n",
    "import time\n",
    "import networkx \n",
    "import collections\n",
    "from tqdm import tqdm\n",
    "import csv"
   ]
  },
  {
   "cell_type": "markdown",
   "metadata": {},
   "source": [
    "# RQ1"
   ]
  },
  {
   "cell_type": "code",
   "execution_count": 3,
   "metadata": {
    "scrolled": true
   },
   "outputs": [],
   "source": [
    "# reading reduced-graph file as a data-frame\n",
    "df = pd.read_csv('wiki-topcats-reduced.txt', sep=r'\\t', header=None,  names=['Source','Destination'])"
   ]
  },
  {
   "cell_type": "code",
   "execution_count": 4,
   "metadata": {
    "scrolled": true
   },
   "outputs": [
    {
     "data": {
      "text/html": [
       "<div>\n",
       "<style>\n",
       "    .dataframe thead tr:only-child th {\n",
       "        text-align: right;\n",
       "    }\n",
       "\n",
       "    .dataframe thead th {\n",
       "        text-align: left;\n",
       "    }\n",
       "\n",
       "    .dataframe tbody tr th {\n",
       "        vertical-align: top;\n",
       "    }\n",
       "</style>\n",
       "<table border=\"1\" class=\"dataframe\">\n",
       "  <thead>\n",
       "    <tr style=\"text-align: right;\">\n",
       "      <th></th>\n",
       "      <th>Source</th>\n",
       "      <th>Destination</th>\n",
       "    </tr>\n",
       "  </thead>\n",
       "  <tbody>\n",
       "    <tr>\n",
       "      <th>0</th>\n",
       "      <td>52</td>\n",
       "      <td>401135</td>\n",
       "    </tr>\n",
       "    <tr>\n",
       "      <th>1</th>\n",
       "      <td>52</td>\n",
       "      <td>1069112</td>\n",
       "    </tr>\n",
       "    <tr>\n",
       "      <th>2</th>\n",
       "      <td>52</td>\n",
       "      <td>1163551</td>\n",
       "    </tr>\n",
       "    <tr>\n",
       "      <th>3</th>\n",
       "      <td>62</td>\n",
       "      <td>12162</td>\n",
       "    </tr>\n",
       "    <tr>\n",
       "      <th>4</th>\n",
       "      <td>62</td>\n",
       "      <td>167659</td>\n",
       "    </tr>\n",
       "  </tbody>\n",
       "</table>\n",
       "</div>"
      ],
      "text/plain": [
       "   Source  Destination\n",
       "0      52       401135\n",
       "1      52      1069112\n",
       "2      52      1163551\n",
       "3      62        12162\n",
       "4      62       167659"
      ]
     },
     "execution_count": 4,
     "metadata": {},
     "output_type": "execute_result"
    }
   ],
   "source": [
    "df.head()"
   ]
  },
  {
   "cell_type": "markdown",
   "metadata": {},
   "source": [
    "__Number of Edges__"
   ]
  },
  {
   "cell_type": "code",
   "execution_count": 5,
   "metadata": {
    "scrolled": true
   },
   "outputs": [
    {
     "name": "stdout",
     "output_type": "stream",
     "text": [
      "Number of Edges: 2645247\n"
     ]
    }
   ],
   "source": [
    "num_of_edges = df.shape[0]\n",
    "print('Number of Edges:', num_of_edges)"
   ]
  },
  {
   "cell_type": "markdown",
   "metadata": {},
   "source": [
    "__Number of Nodes__"
   ]
  },
  {
   "cell_type": "code",
   "execution_count": 6,
   "metadata": {
    "scrolled": true
   },
   "outputs": [
    {
     "name": "stdout",
     "output_type": "stream",
     "text": [
      "Number of Nodes: 461193\n"
     ]
    }
   ],
   "source": [
    "nodes = set(df['Source'].values).union(set(df['Destination'].values))\n",
    "num_of_nodes = len(nodes)\n",
    "print('Number of Nodes:', num_of_nodes)"
   ]
  },
  {
   "cell_type": "markdown",
   "metadata": {},
   "source": [
    "__Checking to see if our graph is directed?__<br>\n",
    "<br>\n",
    "we create the graph once for source nodes as the keys and once for destination nodes as our keys. If intersection set between a similar key in two dictionaries is not empty, we have a proof to show our graph is directed. "
   ]
  },
  {
   "cell_type": "code",
   "execution_count": 7,
   "metadata": {
    "collapsed": true,
    "scrolled": true
   },
   "outputs": [],
   "source": [
    "# dictionary with source nodes as the key\n",
    "out_Link = df.groupby(['Source'])['Destination'].apply(list).to_dict()"
   ]
  },
  {
   "cell_type": "code",
   "execution_count": 8,
   "metadata": {
    "collapsed": true,
    "scrolled": true
   },
   "outputs": [],
   "source": [
    "# dictionary with destination nodes as the key\n",
    "in_Link = df.groupby(['Destination'])['Source'].apply(list).to_dict()"
   ]
  },
  {
   "cell_type": "code",
   "execution_count": 9,
   "metadata": {
    "scrolled": true
   },
   "outputs": [
    {
     "name": "stdout",
     "output_type": "stream",
     "text": [
      "249369\n"
     ]
    }
   ],
   "source": [
    "# checking how many similar keys have non empty intersection sets?\n",
    "intersect_ = {}\n",
    "intersect = 0\n",
    "for item in out_Link.keys(  ):\n",
    "    if item in in_Link.keys():\n",
    "        intersect = set(out_Link[item]).intersection(set(in_Link[item]))\n",
    "        if len(intersect)>0:   \n",
    "            intersect_[item] = set(out_Link[item]).intersection(set(in_Link[item]))\n",
    "print(len(intersect_))"
   ]
  },
  {
   "cell_type": "markdown",
   "metadata": {},
   "source": [
    "__We have enough proof to show that our graph is Directed!__<br><br>"
   ]
  },
  {
   "cell_type": "markdown",
   "metadata": {},
   "source": [
    "__The average node degree__"
   ]
  },
  {
   "cell_type": "code",
   "execution_count": 10,
   "metadata": {
    "scrolled": true
   },
   "outputs": [
    {
     "name": "stdout",
     "output_type": "stream",
     "text": [
      "Average node degree: 5\n"
     ]
    }
   ],
   "source": [
    "average_degree = num_of_edges//num_of_nodes\n",
    "print('Average node degree:', average_degree)"
   ]
  },
  {
   "cell_type": "markdown",
   "metadata": {},
   "source": [
    "__Checking if our graph is a dense graph?__"
   ]
  },
  {
   "cell_type": "code",
   "execution_count": 11,
   "metadata": {
    "scrolled": true
   },
   "outputs": [
    {
     "name": "stdout",
     "output_type": "stream",
     "text": [
      "graph density: 1.2436602635647606e-05\n"
     ]
    }
   ],
   "source": [
    "D = num_of_edges/(num_of_nodes*(num_of_nodes-1))\n",
    "print('graph density:', D)\n",
    "# formula from wiki for directed graphs D = |E| / |V|*(|V|-1)"
   ]
  },
  {
   "cell_type": "markdown",
   "metadata": {},
   "source": [
    "If D is close to 1 it means that graph is dense, so our graph is not dense (close to 0)."
   ]
  },
  {
   "cell_type": "markdown",
   "metadata": {},
   "source": [
    "<br>\n",
    "\n",
    "# Categories dataset and cleaning the data <br>\n"
   ]
  },
  {
   "cell_type": "markdown",
   "metadata": {},
   "source": [
    "__Categories data set__"
   ]
  },
  {
   "cell_type": "code",
   "execution_count": 12,
   "metadata": {
    "collapsed": true,
    "scrolled": true
   },
   "outputs": [],
   "source": [
    "# We use a dictionary for saving categories data. Keys are categories' titles and values are lists of each category's articles(nodes)\n",
    "categories = {}\n",
    "with open('wiki-topcats-categories.txt') as file:\n",
    "    for list_ in file:\n",
    "        if 3500<len(list_.split()[1:])<20000: #we choose only those categories with number of nodes bigger that 3500 and smaller 20000\n",
    "            #this particular choice helps us to reduce the runing time and actully to be able to run the code\n",
    "            categories[list_.split()[0][9:-1]] = list(map(int,list_.split()[1:])) #{'1234': [123, 1234, 88,...], ...}"
   ]
  },
  {
   "cell_type": "code",
   "execution_count": 13,
   "metadata": {
    "scrolled": true
   },
   "outputs": [
    {
     "data": {
      "text/plain": [
       "dict_keys(['English_footballers', 'The_Football_League_players', 'Association_football_forwards', 'Association_football_goalkeepers', 'Association_football_midfielders', 'Association_football_defenders', 'Year_of_birth_unknown', 'Harvard_University_alumni', 'Major_League_Baseball_pitchers', 'Members_of_the_United_Kingdom_Parliament_for_English_constituencies', 'Indian_films', 'Year_of_death_missing', 'English_cricketers', 'Rivers_of_Romania', 'Main_Belt_asteroids', 'Asteroids_named_for_people', 'English-language_albums', 'English_television_actors', 'British_films', 'American_films', 'Fellows_of_the_Royal_Society', 'People_from_New_York_City', 'American_Jews', 'American_television_actors', 'American_film_actors', 'Debut_albums', 'Black-and-white_films', 'Year_of_birth_missing', 'Place_of_birth_missing_(living_people)', 'Article_Feedback_Pilot', 'American_military_personnel_of_World_War_II', 'Windows_games'])"
      ]
     },
     "execution_count": 13,
     "metadata": {},
     "output_type": "execute_result"
    }
   ],
   "source": [
    "categories.keys()"
   ]
  },
  {
   "cell_type": "code",
   "execution_count": 14,
   "metadata": {},
   "outputs": [
    {
     "data": {
      "text/plain": [
       "32"
      ]
     },
     "execution_count": 14,
     "metadata": {},
     "output_type": "execute_result"
    }
   ],
   "source": [
    "# Number of categories we have\n",
    "len(categories.keys())"
   ]
  },
  {
   "cell_type": "markdown",
   "metadata": {},
   "source": [
    "As our graph is a reduced version, some of the nodes in categories might not exist in the reduced graph so we need to consider this and clean the categories dataframe and categories dictionary. "
   ]
  },
  {
   "cell_type": "code",
   "execution_count": 15,
   "metadata": {
    "collapsed": true,
    "scrolled": true
   },
   "outputs": [],
   "source": [
    "# We want only those nodes that are in the reduced graph.\n",
    "graph_categories = {}\n",
    "for key in categories.keys():\n",
    "    article_set = set(categories.get(key)).intersection(nodes)\n",
    "    graph_categories.update({key:article_set})"
   ]
  },
  {
   "cell_type": "code",
   "execution_count": 16,
   "metadata": {
    "collapsed": true,
    "scrolled": true
   },
   "outputs": [],
   "source": [
    "graph_categories_df = pd.DataFrame()\n",
    "graph_categories_df['Categories'] = list(graph_categories.keys())\n",
    "graph_categories_df['Articles'] = list(graph_categories.values())\n",
    "art_len = [len(elem) for elem in list(graph_categories.values())]\n",
    "graph_categories_df['Count'] = art_len"
   ]
  },
  {
   "cell_type": "code",
   "execution_count": 17,
   "metadata": {},
   "outputs": [
    {
     "data": {
      "text/html": [
       "<div>\n",
       "<style>\n",
       "    .dataframe thead tr:only-child th {\n",
       "        text-align: right;\n",
       "    }\n",
       "\n",
       "    .dataframe thead th {\n",
       "        text-align: left;\n",
       "    }\n",
       "\n",
       "    .dataframe tbody tr th {\n",
       "        vertical-align: top;\n",
       "    }\n",
       "</style>\n",
       "<table border=\"1\" class=\"dataframe\">\n",
       "  <thead>\n",
       "    <tr style=\"text-align: right;\">\n",
       "      <th></th>\n",
       "      <th>Categories</th>\n",
       "      <th>Articles</th>\n",
       "      <th>Count</th>\n",
       "    </tr>\n",
       "  </thead>\n",
       "  <tbody>\n",
       "    <tr>\n",
       "      <th>0</th>\n",
       "      <td>English_footballers</td>\n",
       "      <td>{622642, 622644, 622647, 622649, 557114, 62266...</td>\n",
       "      <td>7538</td>\n",
       "    </tr>\n",
       "    <tr>\n",
       "      <th>1</th>\n",
       "      <td>The_Football_League_players</td>\n",
       "      <td>{1671189, 622644, 622647, 622649, 557114, 1245...</td>\n",
       "      <td>7814</td>\n",
       "    </tr>\n",
       "    <tr>\n",
       "      <th>2</th>\n",
       "      <td>Association_football_forwards</td>\n",
       "      <td>{81922, 90119, 73736, 81928, 1359881, 81930, 7...</td>\n",
       "      <td>5097</td>\n",
       "    </tr>\n",
       "    <tr>\n",
       "      <th>3</th>\n",
       "      <td>Association_football_goalkeepers</td>\n",
       "      <td>{737292, 737293, 1671183, 73743, 106515, 10651...</td>\n",
       "      <td>3737</td>\n",
       "    </tr>\n",
       "    <tr>\n",
       "      <th>4</th>\n",
       "      <td>Association_football_midfielders</td>\n",
       "      <td>{1671168, 884755, 884774, 622637, 1671214, 167...</td>\n",
       "      <td>5827</td>\n",
       "    </tr>\n",
       "    <tr>\n",
       "      <th>5</th>\n",
       "      <td>Association_football_defenders</td>\n",
       "      <td>{81920, 1359875, 1359879, 802827, 81936, 10651...</td>\n",
       "      <td>4588</td>\n",
       "    </tr>\n",
       "    <tr>\n",
       "      <th>6</th>\n",
       "      <td>Year_of_birth_unknown</td>\n",
       "      <td>{958476, 958480, 172050, 368658, 368661, 21301...</td>\n",
       "      <td>2536</td>\n",
       "    </tr>\n",
       "    <tr>\n",
       "      <th>7</th>\n",
       "      <td>Harvard_University_alumni</td>\n",
       "      <td>{1638406, 1638409, 1245204, 294956, 1048629, 6...</td>\n",
       "      <td>5549</td>\n",
       "    </tr>\n",
       "    <tr>\n",
       "      <th>8</th>\n",
       "      <td>Major_League_Baseball_pitchers</td>\n",
       "      <td>{385024, 385025, 385027, 376838, 385032, 37684...</td>\n",
       "      <td>5192</td>\n",
       "    </tr>\n",
       "    <tr>\n",
       "      <th>9</th>\n",
       "      <td>Members_of_the_United_Kingdom_Parliament_for_E...</td>\n",
       "      <td>{1048670, 1147049, 1147262, 1147295, 1507751, ...</td>\n",
       "      <td>6491</td>\n",
       "    </tr>\n",
       "    <tr>\n",
       "      <th>10</th>\n",
       "      <td>Indian_films</td>\n",
       "      <td>{589824, 589825, 589826, 589827, 589828, 58982...</td>\n",
       "      <td>5568</td>\n",
       "    </tr>\n",
       "    <tr>\n",
       "      <th>11</th>\n",
       "      <td>Year_of_death_missing</td>\n",
       "      <td>{1048576, 1048577, 1048578, 1048579, 1261874, ...</td>\n",
       "      <td>4122</td>\n",
       "    </tr>\n",
       "    <tr>\n",
       "      <th>12</th>\n",
       "      <td>English_cricketers</td>\n",
       "      <td>{212994, 712723, 671764, 712725, 671770, 67177...</td>\n",
       "      <td>3275</td>\n",
       "    </tr>\n",
       "    <tr>\n",
       "      <th>13</th>\n",
       "      <td>Rivers_of_Romania</td>\n",
       "      <td>{786432, 786433, 786434, 786435, 786436, 78643...</td>\n",
       "      <td>7729</td>\n",
       "    </tr>\n",
       "    <tr>\n",
       "      <th>14</th>\n",
       "      <td>Main_Belt_asteroids</td>\n",
       "      <td>{1589148, 1589149, 1589152, 1589153, 1589154, ...</td>\n",
       "      <td>11660</td>\n",
       "    </tr>\n",
       "    <tr>\n",
       "      <th>15</th>\n",
       "      <td>Asteroids_named_for_people</td>\n",
       "      <td>{1589248, 1138689, 1589252, 1138698, 876555, 9...</td>\n",
       "      <td>4895</td>\n",
       "    </tr>\n",
       "    <tr>\n",
       "      <th>16</th>\n",
       "      <td>English-language_albums</td>\n",
       "      <td>{1228800, 1228801, 1597442, 1590777, 1228822, ...</td>\n",
       "      <td>4760</td>\n",
       "    </tr>\n",
       "    <tr>\n",
       "      <th>17</th>\n",
       "      <td>English_television_actors</td>\n",
       "      <td>{1040385, 1040390, 1040392, 1040396, 1040397, ...</td>\n",
       "      <td>3362</td>\n",
       "    </tr>\n",
       "    <tr>\n",
       "      <th>18</th>\n",
       "      <td>British_films</td>\n",
       "      <td>{1056769, 1056770, 1056774, 1245190, 1064970, ...</td>\n",
       "      <td>4422</td>\n",
       "    </tr>\n",
       "    <tr>\n",
       "      <th>19</th>\n",
       "      <td>American_films</td>\n",
       "      <td>{1245194, 1245195, 1507340, 1638414, 1245201, ...</td>\n",
       "      <td>15159</td>\n",
       "    </tr>\n",
       "    <tr>\n",
       "      <th>20</th>\n",
       "      <td>Fellows_of_the_Royal_Society</td>\n",
       "      <td>{16384, 1441797, 1302533, 1089545, 704524, 104...</td>\n",
       "      <td>3446</td>\n",
       "    </tr>\n",
       "    <tr>\n",
       "      <th>21</th>\n",
       "      <td>People_from_New_York_City</td>\n",
       "      <td>{557059, 294917, 16389, 1277957, 1130509, 6881...</td>\n",
       "      <td>4614</td>\n",
       "    </tr>\n",
       "    <tr>\n",
       "      <th>22</th>\n",
       "      <td>American_Jews</td>\n",
       "      <td>{1728512, 1163266, 1163267, 1163268, 688136, 1...</td>\n",
       "      <td>3411</td>\n",
       "    </tr>\n",
       "    <tr>\n",
       "      <th>23</th>\n",
       "      <td>American_television_actors</td>\n",
       "      <td>{1605634, 1376259, 655377, 655392, 1376294, 13...</td>\n",
       "      <td>11531</td>\n",
       "    </tr>\n",
       "    <tr>\n",
       "      <th>24</th>\n",
       "      <td>American_film_actors</td>\n",
       "      <td>{1376259, 655392, 1376294, 1376295, 1277995, 2...</td>\n",
       "      <td>13865</td>\n",
       "    </tr>\n",
       "    <tr>\n",
       "      <th>25</th>\n",
       "      <td>Debut_albums</td>\n",
       "      <td>{1277978, 1048631, 1278015, 1278021, 1278023, ...</td>\n",
       "      <td>7561</td>\n",
       "    </tr>\n",
       "    <tr>\n",
       "      <th>26</th>\n",
       "      <td>Black-and-white_films</td>\n",
       "      <td>{589847, 589848, 589882, 1245243, 1245264, 124...</td>\n",
       "      <td>10759</td>\n",
       "    </tr>\n",
       "    <tr>\n",
       "      <th>27</th>\n",
       "      <td>Year_of_birth_missing</td>\n",
       "      <td>{753664, 1048576, 1048578, 1048579, 1048577, 1...</td>\n",
       "      <td>4346</td>\n",
       "    </tr>\n",
       "    <tr>\n",
       "      <th>28</th>\n",
       "      <td>Place_of_birth_missing_(living_people)</td>\n",
       "      <td>{655361, 1376257, 1376259, 491528, 1572888, 16...</td>\n",
       "      <td>5532</td>\n",
       "    </tr>\n",
       "    <tr>\n",
       "      <th>29</th>\n",
       "      <td>Article_Feedback_Pilot</td>\n",
       "      <td>{1744901, 1400847, 352271, 1024018, 1613843, 1...</td>\n",
       "      <td>3485</td>\n",
       "    </tr>\n",
       "    <tr>\n",
       "      <th>30</th>\n",
       "      <td>American_military_personnel_of_World_War_II</td>\n",
       "      <td>{385025, 1409026, 1163267, 1056773, 1409032, 2...</td>\n",
       "      <td>3720</td>\n",
       "    </tr>\n",
       "    <tr>\n",
       "      <th>31</th>\n",
       "      <td>Windows_games</td>\n",
       "      <td>{1736708, 1720326, 1507335, 1507337, 1507342, ...</td>\n",
       "      <td>4025</td>\n",
       "    </tr>\n",
       "  </tbody>\n",
       "</table>\n",
       "</div>"
      ],
      "text/plain": [
       "                                           Categories  \\\n",
       "0                                 English_footballers   \n",
       "1                         The_Football_League_players   \n",
       "2                       Association_football_forwards   \n",
       "3                    Association_football_goalkeepers   \n",
       "4                    Association_football_midfielders   \n",
       "5                      Association_football_defenders   \n",
       "6                               Year_of_birth_unknown   \n",
       "7                           Harvard_University_alumni   \n",
       "8                      Major_League_Baseball_pitchers   \n",
       "9   Members_of_the_United_Kingdom_Parliament_for_E...   \n",
       "10                                       Indian_films   \n",
       "11                              Year_of_death_missing   \n",
       "12                                 English_cricketers   \n",
       "13                                  Rivers_of_Romania   \n",
       "14                                Main_Belt_asteroids   \n",
       "15                         Asteroids_named_for_people   \n",
       "16                            English-language_albums   \n",
       "17                          English_television_actors   \n",
       "18                                      British_films   \n",
       "19                                     American_films   \n",
       "20                       Fellows_of_the_Royal_Society   \n",
       "21                          People_from_New_York_City   \n",
       "22                                      American_Jews   \n",
       "23                         American_television_actors   \n",
       "24                               American_film_actors   \n",
       "25                                       Debut_albums   \n",
       "26                              Black-and-white_films   \n",
       "27                              Year_of_birth_missing   \n",
       "28             Place_of_birth_missing_(living_people)   \n",
       "29                             Article_Feedback_Pilot   \n",
       "30        American_military_personnel_of_World_War_II   \n",
       "31                                      Windows_games   \n",
       "\n",
       "                                             Articles  Count  \n",
       "0   {622642, 622644, 622647, 622649, 557114, 62266...   7538  \n",
       "1   {1671189, 622644, 622647, 622649, 557114, 1245...   7814  \n",
       "2   {81922, 90119, 73736, 81928, 1359881, 81930, 7...   5097  \n",
       "3   {737292, 737293, 1671183, 73743, 106515, 10651...   3737  \n",
       "4   {1671168, 884755, 884774, 622637, 1671214, 167...   5827  \n",
       "5   {81920, 1359875, 1359879, 802827, 81936, 10651...   4588  \n",
       "6   {958476, 958480, 172050, 368658, 368661, 21301...   2536  \n",
       "7   {1638406, 1638409, 1245204, 294956, 1048629, 6...   5549  \n",
       "8   {385024, 385025, 385027, 376838, 385032, 37684...   5192  \n",
       "9   {1048670, 1147049, 1147262, 1147295, 1507751, ...   6491  \n",
       "10  {589824, 589825, 589826, 589827, 589828, 58982...   5568  \n",
       "11  {1048576, 1048577, 1048578, 1048579, 1261874, ...   4122  \n",
       "12  {212994, 712723, 671764, 712725, 671770, 67177...   3275  \n",
       "13  {786432, 786433, 786434, 786435, 786436, 78643...   7729  \n",
       "14  {1589148, 1589149, 1589152, 1589153, 1589154, ...  11660  \n",
       "15  {1589248, 1138689, 1589252, 1138698, 876555, 9...   4895  \n",
       "16  {1228800, 1228801, 1597442, 1590777, 1228822, ...   4760  \n",
       "17  {1040385, 1040390, 1040392, 1040396, 1040397, ...   3362  \n",
       "18  {1056769, 1056770, 1056774, 1245190, 1064970, ...   4422  \n",
       "19  {1245194, 1245195, 1507340, 1638414, 1245201, ...  15159  \n",
       "20  {16384, 1441797, 1302533, 1089545, 704524, 104...   3446  \n",
       "21  {557059, 294917, 16389, 1277957, 1130509, 6881...   4614  \n",
       "22  {1728512, 1163266, 1163267, 1163268, 688136, 1...   3411  \n",
       "23  {1605634, 1376259, 655377, 655392, 1376294, 13...  11531  \n",
       "24  {1376259, 655392, 1376294, 1376295, 1277995, 2...  13865  \n",
       "25  {1277978, 1048631, 1278015, 1278021, 1278023, ...   7561  \n",
       "26  {589847, 589848, 589882, 1245243, 1245264, 124...  10759  \n",
       "27  {753664, 1048576, 1048578, 1048579, 1048577, 1...   4346  \n",
       "28  {655361, 1376257, 1376259, 491528, 1572888, 16...   5532  \n",
       "29  {1744901, 1400847, 352271, 1024018, 1613843, 1...   3485  \n",
       "30  {385025, 1409026, 1163267, 1056773, 1409032, 2...   3720  \n",
       "31  {1736708, 1720326, 1507335, 1507337, 1507342, ...   4025  "
      ]
     },
     "execution_count": 17,
     "metadata": {},
     "output_type": "execute_result"
    }
   ],
   "source": [
    "graph_categories_df"
   ]
  },
  {
   "cell_type": "code",
   "execution_count": 18,
   "metadata": {
    "collapsed": true,
    "scrolled": true
   },
   "outputs": [],
   "source": [
    "# after taking the intersection of each categories' value list with unique nodes in our reduced graph, we again check to \n",
    "# select those categories with higer value length of 3500\n",
    "graph_categories_df = graph_categories_df[graph_categories_df['Count']>3500].reset_index(drop=True)"
   ]
  },
  {
   "cell_type": "code",
   "execution_count": 19,
   "metadata": {
    "scrolled": true
   },
   "outputs": [
    {
     "data": {
      "text/html": [
       "<div>\n",
       "<style>\n",
       "    .dataframe thead tr:only-child th {\n",
       "        text-align: right;\n",
       "    }\n",
       "\n",
       "    .dataframe thead th {\n",
       "        text-align: left;\n",
       "    }\n",
       "\n",
       "    .dataframe tbody tr th {\n",
       "        vertical-align: top;\n",
       "    }\n",
       "</style>\n",
       "<table border=\"1\" class=\"dataframe\">\n",
       "  <thead>\n",
       "    <tr style=\"text-align: right;\">\n",
       "      <th></th>\n",
       "      <th>Categories</th>\n",
       "      <th>Articles</th>\n",
       "      <th>Count</th>\n",
       "    </tr>\n",
       "  </thead>\n",
       "  <tbody>\n",
       "    <tr>\n",
       "      <th>0</th>\n",
       "      <td>English_footballers</td>\n",
       "      <td>{622642, 622644, 622647, 622649, 557114, 62266...</td>\n",
       "      <td>7538</td>\n",
       "    </tr>\n",
       "    <tr>\n",
       "      <th>1</th>\n",
       "      <td>The_Football_League_players</td>\n",
       "      <td>{1671189, 622644, 622647, 622649, 557114, 1245...</td>\n",
       "      <td>7814</td>\n",
       "    </tr>\n",
       "    <tr>\n",
       "      <th>2</th>\n",
       "      <td>Association_football_forwards</td>\n",
       "      <td>{81922, 90119, 73736, 81928, 1359881, 81930, 7...</td>\n",
       "      <td>5097</td>\n",
       "    </tr>\n",
       "    <tr>\n",
       "      <th>3</th>\n",
       "      <td>Association_football_goalkeepers</td>\n",
       "      <td>{737292, 737293, 1671183, 73743, 106515, 10651...</td>\n",
       "      <td>3737</td>\n",
       "    </tr>\n",
       "    <tr>\n",
       "      <th>4</th>\n",
       "      <td>Association_football_midfielders</td>\n",
       "      <td>{1671168, 884755, 884774, 622637, 1671214, 167...</td>\n",
       "      <td>5827</td>\n",
       "    </tr>\n",
       "    <tr>\n",
       "      <th>5</th>\n",
       "      <td>Association_football_defenders</td>\n",
       "      <td>{81920, 1359875, 1359879, 802827, 81936, 10651...</td>\n",
       "      <td>4588</td>\n",
       "    </tr>\n",
       "    <tr>\n",
       "      <th>6</th>\n",
       "      <td>Harvard_University_alumni</td>\n",
       "      <td>{1638406, 1638409, 1245204, 294956, 1048629, 6...</td>\n",
       "      <td>5549</td>\n",
       "    </tr>\n",
       "    <tr>\n",
       "      <th>7</th>\n",
       "      <td>Major_League_Baseball_pitchers</td>\n",
       "      <td>{385024, 385025, 385027, 376838, 385032, 37684...</td>\n",
       "      <td>5192</td>\n",
       "    </tr>\n",
       "    <tr>\n",
       "      <th>8</th>\n",
       "      <td>Members_of_the_United_Kingdom_Parliament_for_E...</td>\n",
       "      <td>{1048670, 1147049, 1147262, 1147295, 1507751, ...</td>\n",
       "      <td>6491</td>\n",
       "    </tr>\n",
       "    <tr>\n",
       "      <th>9</th>\n",
       "      <td>Indian_films</td>\n",
       "      <td>{589824, 589825, 589826, 589827, 589828, 58982...</td>\n",
       "      <td>5568</td>\n",
       "    </tr>\n",
       "    <tr>\n",
       "      <th>10</th>\n",
       "      <td>Year_of_death_missing</td>\n",
       "      <td>{1048576, 1048577, 1048578, 1048579, 1261874, ...</td>\n",
       "      <td>4122</td>\n",
       "    </tr>\n",
       "    <tr>\n",
       "      <th>11</th>\n",
       "      <td>Rivers_of_Romania</td>\n",
       "      <td>{786432, 786433, 786434, 786435, 786436, 78643...</td>\n",
       "      <td>7729</td>\n",
       "    </tr>\n",
       "    <tr>\n",
       "      <th>12</th>\n",
       "      <td>Main_Belt_asteroids</td>\n",
       "      <td>{1589148, 1589149, 1589152, 1589153, 1589154, ...</td>\n",
       "      <td>11660</td>\n",
       "    </tr>\n",
       "    <tr>\n",
       "      <th>13</th>\n",
       "      <td>Asteroids_named_for_people</td>\n",
       "      <td>{1589248, 1138689, 1589252, 1138698, 876555, 9...</td>\n",
       "      <td>4895</td>\n",
       "    </tr>\n",
       "    <tr>\n",
       "      <th>14</th>\n",
       "      <td>English-language_albums</td>\n",
       "      <td>{1228800, 1228801, 1597442, 1590777, 1228822, ...</td>\n",
       "      <td>4760</td>\n",
       "    </tr>\n",
       "    <tr>\n",
       "      <th>15</th>\n",
       "      <td>British_films</td>\n",
       "      <td>{1056769, 1056770, 1056774, 1245190, 1064970, ...</td>\n",
       "      <td>4422</td>\n",
       "    </tr>\n",
       "    <tr>\n",
       "      <th>16</th>\n",
       "      <td>American_films</td>\n",
       "      <td>{1245194, 1245195, 1507340, 1638414, 1245201, ...</td>\n",
       "      <td>15159</td>\n",
       "    </tr>\n",
       "    <tr>\n",
       "      <th>17</th>\n",
       "      <td>People_from_New_York_City</td>\n",
       "      <td>{557059, 294917, 16389, 1277957, 1130509, 6881...</td>\n",
       "      <td>4614</td>\n",
       "    </tr>\n",
       "    <tr>\n",
       "      <th>18</th>\n",
       "      <td>American_television_actors</td>\n",
       "      <td>{1605634, 1376259, 655377, 655392, 1376294, 13...</td>\n",
       "      <td>11531</td>\n",
       "    </tr>\n",
       "    <tr>\n",
       "      <th>19</th>\n",
       "      <td>American_film_actors</td>\n",
       "      <td>{1376259, 655392, 1376294, 1376295, 1277995, 2...</td>\n",
       "      <td>13865</td>\n",
       "    </tr>\n",
       "    <tr>\n",
       "      <th>20</th>\n",
       "      <td>Debut_albums</td>\n",
       "      <td>{1277978, 1048631, 1278015, 1278021, 1278023, ...</td>\n",
       "      <td>7561</td>\n",
       "    </tr>\n",
       "    <tr>\n",
       "      <th>21</th>\n",
       "      <td>Black-and-white_films</td>\n",
       "      <td>{589847, 589848, 589882, 1245243, 1245264, 124...</td>\n",
       "      <td>10759</td>\n",
       "    </tr>\n",
       "    <tr>\n",
       "      <th>22</th>\n",
       "      <td>Year_of_birth_missing</td>\n",
       "      <td>{753664, 1048576, 1048578, 1048579, 1048577, 1...</td>\n",
       "      <td>4346</td>\n",
       "    </tr>\n",
       "    <tr>\n",
       "      <th>23</th>\n",
       "      <td>Place_of_birth_missing_(living_people)</td>\n",
       "      <td>{655361, 1376257, 1376259, 491528, 1572888, 16...</td>\n",
       "      <td>5532</td>\n",
       "    </tr>\n",
       "    <tr>\n",
       "      <th>24</th>\n",
       "      <td>American_military_personnel_of_World_War_II</td>\n",
       "      <td>{385025, 1409026, 1163267, 1056773, 1409032, 2...</td>\n",
       "      <td>3720</td>\n",
       "    </tr>\n",
       "    <tr>\n",
       "      <th>25</th>\n",
       "      <td>Windows_games</td>\n",
       "      <td>{1736708, 1720326, 1507335, 1507337, 1507342, ...</td>\n",
       "      <td>4025</td>\n",
       "    </tr>\n",
       "  </tbody>\n",
       "</table>\n",
       "</div>"
      ],
      "text/plain": [
       "                                           Categories  \\\n",
       "0                                 English_footballers   \n",
       "1                         The_Football_League_players   \n",
       "2                       Association_football_forwards   \n",
       "3                    Association_football_goalkeepers   \n",
       "4                    Association_football_midfielders   \n",
       "5                      Association_football_defenders   \n",
       "6                           Harvard_University_alumni   \n",
       "7                      Major_League_Baseball_pitchers   \n",
       "8   Members_of_the_United_Kingdom_Parliament_for_E...   \n",
       "9                                        Indian_films   \n",
       "10                              Year_of_death_missing   \n",
       "11                                  Rivers_of_Romania   \n",
       "12                                Main_Belt_asteroids   \n",
       "13                         Asteroids_named_for_people   \n",
       "14                            English-language_albums   \n",
       "15                                      British_films   \n",
       "16                                     American_films   \n",
       "17                          People_from_New_York_City   \n",
       "18                         American_television_actors   \n",
       "19                               American_film_actors   \n",
       "20                                       Debut_albums   \n",
       "21                              Black-and-white_films   \n",
       "22                              Year_of_birth_missing   \n",
       "23             Place_of_birth_missing_(living_people)   \n",
       "24        American_military_personnel_of_World_War_II   \n",
       "25                                      Windows_games   \n",
       "\n",
       "                                             Articles  Count  \n",
       "0   {622642, 622644, 622647, 622649, 557114, 62266...   7538  \n",
       "1   {1671189, 622644, 622647, 622649, 557114, 1245...   7814  \n",
       "2   {81922, 90119, 73736, 81928, 1359881, 81930, 7...   5097  \n",
       "3   {737292, 737293, 1671183, 73743, 106515, 10651...   3737  \n",
       "4   {1671168, 884755, 884774, 622637, 1671214, 167...   5827  \n",
       "5   {81920, 1359875, 1359879, 802827, 81936, 10651...   4588  \n",
       "6   {1638406, 1638409, 1245204, 294956, 1048629, 6...   5549  \n",
       "7   {385024, 385025, 385027, 376838, 385032, 37684...   5192  \n",
       "8   {1048670, 1147049, 1147262, 1147295, 1507751, ...   6491  \n",
       "9   {589824, 589825, 589826, 589827, 589828, 58982...   5568  \n",
       "10  {1048576, 1048577, 1048578, 1048579, 1261874, ...   4122  \n",
       "11  {786432, 786433, 786434, 786435, 786436, 78643...   7729  \n",
       "12  {1589148, 1589149, 1589152, 1589153, 1589154, ...  11660  \n",
       "13  {1589248, 1138689, 1589252, 1138698, 876555, 9...   4895  \n",
       "14  {1228800, 1228801, 1597442, 1590777, 1228822, ...   4760  \n",
       "15  {1056769, 1056770, 1056774, 1245190, 1064970, ...   4422  \n",
       "16  {1245194, 1245195, 1507340, 1638414, 1245201, ...  15159  \n",
       "17  {557059, 294917, 16389, 1277957, 1130509, 6881...   4614  \n",
       "18  {1605634, 1376259, 655377, 655392, 1376294, 13...  11531  \n",
       "19  {1376259, 655392, 1376294, 1376295, 1277995, 2...  13865  \n",
       "20  {1277978, 1048631, 1278015, 1278021, 1278023, ...   7561  \n",
       "21  {589847, 589848, 589882, 1245243, 1245264, 124...  10759  \n",
       "22  {753664, 1048576, 1048578, 1048579, 1048577, 1...   4346  \n",
       "23  {655361, 1376257, 1376259, 491528, 1572888, 16...   5532  \n",
       "24  {385025, 1409026, 1163267, 1056773, 1409032, 2...   3720  \n",
       "25  {1736708, 1720326, 1507335, 1507337, 1507342, ...   4025  "
      ]
     },
     "execution_count": 19,
     "metadata": {},
     "output_type": "execute_result"
    }
   ],
   "source": [
    "graph_categories_df"
   ]
  },
  {
   "cell_type": "markdown",
   "metadata": {},
   "source": [
    "__Doing the same cleaning for the dictionary__"
   ]
  },
  {
   "cell_type": "code",
   "execution_count": 20,
   "metadata": {
    "collapsed": true,
    "scrolled": true
   },
   "outputs": [],
   "source": [
    "# for having in our dictionary only categories with more than 3500 articles\n",
    "for elem in list(graph_categories.keys()):\n",
    "    if elem not in graph_categories_df['Categories'].tolist():\n",
    "        del graph_categories[elem]"
   ]
  },
  {
   "cell_type": "code",
   "execution_count": 21,
   "metadata": {},
   "outputs": [
    {
     "data": {
      "text/plain": [
       "26"
      ]
     },
     "execution_count": 21,
     "metadata": {},
     "output_type": "execute_result"
    }
   ],
   "source": [
    "len(graph_categories)"
   ]
  },
  {
   "cell_type": "markdown",
   "metadata": {},
   "source": [
    "__all the unique nodes after cleaning the categories__"
   ]
  },
  {
   "cell_type": "code",
   "execution_count": 22,
   "metadata": {},
   "outputs": [
    {
     "data": {
      "text/plain": [
       "139433"
      ]
     },
     "execution_count": 22,
     "metadata": {},
     "output_type": "execute_result"
    }
   ],
   "source": [
    "len(sorted({x for v in graph_categories.values() for x in v}))"
   ]
  },
  {
   "cell_type": "markdown",
   "metadata": {},
   "source": [
    "<br>\n",
    "\n",
    "# RQ2 <br>\n",
    "# a. Find the Shortest Path"
   ]
  },
  {
   "cell_type": "markdown",
   "metadata": {},
   "source": [
    "There are options for choosing an algorithm that calculates the shortest path among each two nodes. We pick BFS(Breadth First Search). This algorithm suits our task the best as our graph is not weighted and BFS also works for directed graphs. <br> \n",
    "Given a graph $G = (V,E)$ and a distinguished source vertex $s$, breadth-ﬁrst search systematically explores the edges of $G$ to “discover” every vertex that is reachable from $ S $, It computes the distance (smallest number of edges) from $s$ to each reachable vertex. It also produces a “breadth-ﬁrst tree” with root $s$ that contains all reachable vertices. For any vertex $v$ reachable from $s$, the simple path in the breadth-ﬁrst tree from $s$ to  corresponds to a “shortest path” from $s$ to $v$ in $G$, that is, a path containing the smallest number of edges. The algorithm works on both directed and undirected graphs. "
   ]
  },
  {
   "cell_type": "code",
   "execution_count": 23,
   "metadata": {
    "scrolled": true
   },
   "outputs": [
    {
     "data": {
      "text/plain": [
       "1000"
      ]
     },
     "execution_count": 23,
     "metadata": {},
     "output_type": "execute_result"
    }
   ],
   "source": [
    "C0_name = 'English_footballers'\n",
    "C0 = list(graph_categories[C0_name])[0:1000]# we choose the first 1000 nodes in input category 'English_footballers'\n",
    "len(C0)"
   ]
  },
  {
   "cell_type": "code",
   "execution_count": 24,
   "metadata": {
    "collapsed": true,
    "scrolled": true
   },
   "outputs": [],
   "source": [
    "def BFS_with_saving_path(graph, start):\n",
    "    visited = {start}\n",
    "    queue = deque([(start, [])])\n",
    "    sav_path = {}\n",
    "    \n",
    "    while queue:\n",
    "        current, path = queue.popleft()\n",
    "        try:\n",
    "            for neighbor in graph[current]:\n",
    "                if neighbor not in visited:\n",
    "                    queue.append((neighbor, path + [current]))\n",
    "                    visited.add(neighbor)\n",
    "                    sav_path[neighbor] = current\n",
    "        except KeyError:\n",
    "            pass\n",
    "    return sav_path"
   ]
  },
  {
   "cell_type": "code",
   "execution_count": 25,
   "metadata": {
    "collapsed": true,
    "scrolled": true
   },
   "outputs": [],
   "source": [
    "def ShortestPath(graph, start, goal, tree):\n",
    "    path = []\n",
    "    if start == goal:\n",
    "        return(len(path))\n",
    "    elif goal not in tree:\n",
    "        return(math.inf)\n",
    "    else:\n",
    "        current = goal\n",
    "        while current != start:\n",
    "            path.append(tree[current])\n",
    "            current = tree[current]\n",
    "        return(len(path))"
   ]
  },
  {
   "cell_type": "code",
   "execution_count": 26,
   "metadata": {
    "collapsed": true
   },
   "outputs": [],
   "source": [
    "path_Ci_Cj = [] # list for saving all the path values for each categoty Ci\n",
    "C0_distance_dict = {} # dictionary for saving median values for each category\n",
    "i = 1\n",
    "# as we took C0 = 'English_footballers', now Ci is all other categories from graph_categories dict\n",
    "for category in list(graph_categories.values())[1:]:\n",
    "    for start in list(C0):\n",
    "        tree = BFS_with_saving_path(out_Link, start) # tree for every node from C0\n",
    "        for end in list(category):\n",
    "            path = ShortestPath(out_Link,start,end,tree)\n",
    "            path_Ci_Cj.append(path)  # [5,2,4,inf,3]\n",
    "    C0_distance_dict.update({i:np.median(path_Ci_Cj)})\n",
    "    w = csv.writer(open('C'+str(i)+'.csv', 'w'))\n",
    "    for item in path_Ci_Cj:\n",
    "        w.writerow([item])\n",
    "    i = i + 1\n",
    "    path_Ci_Cj = []"
   ]
  },
  {
   "cell_type": "markdown",
   "metadata": {},
   "source": [
    "##### Distances from C0, where key is an index of Ci and value is distance:"
   ]
  },
  {
   "cell_type": "code",
   "execution_count": 37,
   "metadata": {},
   "outputs": [
    {
     "name": "stdout",
     "output_type": "stream",
     "text": [
      "{0: 0.0, 1: inf, 2: inf, 3: inf, 4: inf, 5: inf, 6: inf, 7: inf, 8: 7.0, 9: 7.0, 10: inf, 11: 8.0, 12: inf, 13: inf, 14: 8.0, 15: 7.0, 16: 7.0, 17: 8.0, 18: 7.0, 19: 7.0, 20: 8.0, 21: 7.0, 22: inf, 23: inf, 24: inf, 25: inf}\n"
     ]
    }
   ],
   "source": [
    "print(C0_distance_dict)"
   ]
  },
  {
   "cell_type": "code",
   "execution_count": 47,
   "metadata": {
    "collapsed": true
   },
   "outputs": [],
   "source": [
    "graph_categories_df['C_index'] = list(C0_distance_dict.keys())\n",
    "graph_categories_df['Distance_From_C0'] = list(C0_distance_dict.values())"
   ]
  },
  {
   "cell_type": "code",
   "execution_count": 48,
   "metadata": {},
   "outputs": [
    {
     "data": {
      "text/html": [
       "<div>\n",
       "<style>\n",
       "    .dataframe thead tr:only-child th {\n",
       "        text-align: right;\n",
       "    }\n",
       "\n",
       "    .dataframe thead th {\n",
       "        text-align: left;\n",
       "    }\n",
       "\n",
       "    .dataframe tbody tr th {\n",
       "        vertical-align: top;\n",
       "    }\n",
       "</style>\n",
       "<table border=\"1\" class=\"dataframe\">\n",
       "  <thead>\n",
       "    <tr style=\"text-align: right;\">\n",
       "      <th></th>\n",
       "      <th>Categories</th>\n",
       "      <th>Articles</th>\n",
       "      <th>Count</th>\n",
       "      <th>C_index</th>\n",
       "      <th>Distance_From_C0</th>\n",
       "    </tr>\n",
       "  </thead>\n",
       "  <tbody>\n",
       "    <tr>\n",
       "      <th>0</th>\n",
       "      <td>English_footballers</td>\n",
       "      <td>{622642, 622644, 622647, 622649, 557114, 62266...</td>\n",
       "      <td>7538</td>\n",
       "      <td>0</td>\n",
       "      <td>0.000000</td>\n",
       "    </tr>\n",
       "    <tr>\n",
       "      <th>1</th>\n",
       "      <td>The_Football_League_players</td>\n",
       "      <td>{1671189, 622644, 622647, 622649, 557114, 1245...</td>\n",
       "      <td>7814</td>\n",
       "      <td>1</td>\n",
       "      <td>inf</td>\n",
       "    </tr>\n",
       "    <tr>\n",
       "      <th>2</th>\n",
       "      <td>Association_football_forwards</td>\n",
       "      <td>{81922, 90119, 73736, 81928, 1359881, 81930, 7...</td>\n",
       "      <td>5097</td>\n",
       "      <td>2</td>\n",
       "      <td>inf</td>\n",
       "    </tr>\n",
       "    <tr>\n",
       "      <th>3</th>\n",
       "      <td>Association_football_goalkeepers</td>\n",
       "      <td>{737292, 737293, 1671183, 73743, 106515, 10651...</td>\n",
       "      <td>3737</td>\n",
       "      <td>3</td>\n",
       "      <td>inf</td>\n",
       "    </tr>\n",
       "    <tr>\n",
       "      <th>4</th>\n",
       "      <td>Association_football_midfielders</td>\n",
       "      <td>{1671168, 884755, 884774, 622637, 1671214, 167...</td>\n",
       "      <td>5827</td>\n",
       "      <td>4</td>\n",
       "      <td>inf</td>\n",
       "    </tr>\n",
       "    <tr>\n",
       "      <th>5</th>\n",
       "      <td>Association_football_defenders</td>\n",
       "      <td>{81920, 1359875, 1359879, 802827, 81936, 10651...</td>\n",
       "      <td>4588</td>\n",
       "      <td>5</td>\n",
       "      <td>inf</td>\n",
       "    </tr>\n",
       "    <tr>\n",
       "      <th>6</th>\n",
       "      <td>Harvard_University_alumni</td>\n",
       "      <td>{1638406, 1638409, 1245204, 294956, 1048629, 6...</td>\n",
       "      <td>5549</td>\n",
       "      <td>6</td>\n",
       "      <td>inf</td>\n",
       "    </tr>\n",
       "    <tr>\n",
       "      <th>7</th>\n",
       "      <td>Major_League_Baseball_pitchers</td>\n",
       "      <td>{385024, 385025, 385027, 376838, 385032, 37684...</td>\n",
       "      <td>5192</td>\n",
       "      <td>7</td>\n",
       "      <td>inf</td>\n",
       "    </tr>\n",
       "    <tr>\n",
       "      <th>8</th>\n",
       "      <td>Members_of_the_United_Kingdom_Parliament_for_E...</td>\n",
       "      <td>{1048670, 1147049, 1147262, 1147295, 1507751, ...</td>\n",
       "      <td>6491</td>\n",
       "      <td>8</td>\n",
       "      <td>7.000000</td>\n",
       "    </tr>\n",
       "    <tr>\n",
       "      <th>9</th>\n",
       "      <td>Indian_films</td>\n",
       "      <td>{589824, 589825, 589826, 589827, 589828, 58982...</td>\n",
       "      <td>5568</td>\n",
       "      <td>9</td>\n",
       "      <td>7.000000</td>\n",
       "    </tr>\n",
       "    <tr>\n",
       "      <th>10</th>\n",
       "      <td>Year_of_death_missing</td>\n",
       "      <td>{1048576, 1048577, 1048578, 1048579, 1261874, ...</td>\n",
       "      <td>4122</td>\n",
       "      <td>10</td>\n",
       "      <td>inf</td>\n",
       "    </tr>\n",
       "    <tr>\n",
       "      <th>11</th>\n",
       "      <td>Rivers_of_Romania</td>\n",
       "      <td>{786432, 786433, 786434, 786435, 786436, 78643...</td>\n",
       "      <td>7729</td>\n",
       "      <td>11</td>\n",
       "      <td>8.000000</td>\n",
       "    </tr>\n",
       "    <tr>\n",
       "      <th>12</th>\n",
       "      <td>Main_Belt_asteroids</td>\n",
       "      <td>{1589148, 1589149, 1589152, 1589153, 1589154, ...</td>\n",
       "      <td>11660</td>\n",
       "      <td>12</td>\n",
       "      <td>inf</td>\n",
       "    </tr>\n",
       "    <tr>\n",
       "      <th>13</th>\n",
       "      <td>Asteroids_named_for_people</td>\n",
       "      <td>{1589248, 1138689, 1589252, 1138698, 876555, 9...</td>\n",
       "      <td>4895</td>\n",
       "      <td>13</td>\n",
       "      <td>inf</td>\n",
       "    </tr>\n",
       "    <tr>\n",
       "      <th>14</th>\n",
       "      <td>English-language_albums</td>\n",
       "      <td>{1228800, 1228801, 1597442, 1590777, 1228822, ...</td>\n",
       "      <td>4760</td>\n",
       "      <td>14</td>\n",
       "      <td>8.000000</td>\n",
       "    </tr>\n",
       "    <tr>\n",
       "      <th>15</th>\n",
       "      <td>British_films</td>\n",
       "      <td>{1056769, 1056770, 1056774, 1245190, 1064970, ...</td>\n",
       "      <td>4422</td>\n",
       "      <td>15</td>\n",
       "      <td>7.000000</td>\n",
       "    </tr>\n",
       "    <tr>\n",
       "      <th>16</th>\n",
       "      <td>American_films</td>\n",
       "      <td>{1245194, 1245195, 1507340, 1638414, 1245201, ...</td>\n",
       "      <td>15159</td>\n",
       "      <td>16</td>\n",
       "      <td>7.000000</td>\n",
       "    </tr>\n",
       "    <tr>\n",
       "      <th>17</th>\n",
       "      <td>People_from_New_York_City</td>\n",
       "      <td>{557059, 294917, 16389, 1277957, 1130509, 6881...</td>\n",
       "      <td>4614</td>\n",
       "      <td>17</td>\n",
       "      <td>8.000000</td>\n",
       "    </tr>\n",
       "    <tr>\n",
       "      <th>18</th>\n",
       "      <td>American_television_actors</td>\n",
       "      <td>{1605634, 1376259, 655377, 655392, 1376294, 13...</td>\n",
       "      <td>11531</td>\n",
       "      <td>18</td>\n",
       "      <td>7.000000</td>\n",
       "    </tr>\n",
       "    <tr>\n",
       "      <th>19</th>\n",
       "      <td>American_film_actors</td>\n",
       "      <td>{1376259, 655392, 1376294, 1376295, 1277995, 2...</td>\n",
       "      <td>13865</td>\n",
       "      <td>19</td>\n",
       "      <td>7.000000</td>\n",
       "    </tr>\n",
       "    <tr>\n",
       "      <th>20</th>\n",
       "      <td>Debut_albums</td>\n",
       "      <td>{1277978, 1048631, 1278015, 1278021, 1278023, ...</td>\n",
       "      <td>7561</td>\n",
       "      <td>20</td>\n",
       "      <td>8.000000</td>\n",
       "    </tr>\n",
       "    <tr>\n",
       "      <th>21</th>\n",
       "      <td>Black-and-white_films</td>\n",
       "      <td>{589847, 589848, 589882, 1245243, 1245264, 124...</td>\n",
       "      <td>10759</td>\n",
       "      <td>21</td>\n",
       "      <td>7.000000</td>\n",
       "    </tr>\n",
       "    <tr>\n",
       "      <th>22</th>\n",
       "      <td>Year_of_birth_missing</td>\n",
       "      <td>{753664, 1048576, 1048578, 1048579, 1048577, 1...</td>\n",
       "      <td>4346</td>\n",
       "      <td>22</td>\n",
       "      <td>inf</td>\n",
       "    </tr>\n",
       "    <tr>\n",
       "      <th>23</th>\n",
       "      <td>Place_of_birth_missing_(living_people)</td>\n",
       "      <td>{655361, 1376257, 1376259, 491528, 1572888, 16...</td>\n",
       "      <td>5532</td>\n",
       "      <td>23</td>\n",
       "      <td>inf</td>\n",
       "    </tr>\n",
       "    <tr>\n",
       "      <th>24</th>\n",
       "      <td>American_military_personnel_of_World_War_II</td>\n",
       "      <td>{385025, 1409026, 1163267, 1056773, 1409032, 2...</td>\n",
       "      <td>3720</td>\n",
       "      <td>24</td>\n",
       "      <td>inf</td>\n",
       "    </tr>\n",
       "    <tr>\n",
       "      <th>25</th>\n",
       "      <td>Windows_games</td>\n",
       "      <td>{1736708, 1720326, 1507335, 1507337, 1507342, ...</td>\n",
       "      <td>4025</td>\n",
       "      <td>25</td>\n",
       "      <td>inf</td>\n",
       "    </tr>\n",
       "  </tbody>\n",
       "</table>\n",
       "</div>"
      ],
      "text/plain": [
       "                                           Categories  \\\n",
       "0                                 English_footballers   \n",
       "1                         The_Football_League_players   \n",
       "2                       Association_football_forwards   \n",
       "3                    Association_football_goalkeepers   \n",
       "4                    Association_football_midfielders   \n",
       "5                      Association_football_defenders   \n",
       "6                           Harvard_University_alumni   \n",
       "7                      Major_League_Baseball_pitchers   \n",
       "8   Members_of_the_United_Kingdom_Parliament_for_E...   \n",
       "9                                        Indian_films   \n",
       "10                              Year_of_death_missing   \n",
       "11                                  Rivers_of_Romania   \n",
       "12                                Main_Belt_asteroids   \n",
       "13                         Asteroids_named_for_people   \n",
       "14                            English-language_albums   \n",
       "15                                      British_films   \n",
       "16                                     American_films   \n",
       "17                          People_from_New_York_City   \n",
       "18                         American_television_actors   \n",
       "19                               American_film_actors   \n",
       "20                                       Debut_albums   \n",
       "21                              Black-and-white_films   \n",
       "22                              Year_of_birth_missing   \n",
       "23             Place_of_birth_missing_(living_people)   \n",
       "24        American_military_personnel_of_World_War_II   \n",
       "25                                      Windows_games   \n",
       "\n",
       "                                             Articles  Count  C_index  \\\n",
       "0   {622642, 622644, 622647, 622649, 557114, 62266...   7538        0   \n",
       "1   {1671189, 622644, 622647, 622649, 557114, 1245...   7814        1   \n",
       "2   {81922, 90119, 73736, 81928, 1359881, 81930, 7...   5097        2   \n",
       "3   {737292, 737293, 1671183, 73743, 106515, 10651...   3737        3   \n",
       "4   {1671168, 884755, 884774, 622637, 1671214, 167...   5827        4   \n",
       "5   {81920, 1359875, 1359879, 802827, 81936, 10651...   4588        5   \n",
       "6   {1638406, 1638409, 1245204, 294956, 1048629, 6...   5549        6   \n",
       "7   {385024, 385025, 385027, 376838, 385032, 37684...   5192        7   \n",
       "8   {1048670, 1147049, 1147262, 1147295, 1507751, ...   6491        8   \n",
       "9   {589824, 589825, 589826, 589827, 589828, 58982...   5568        9   \n",
       "10  {1048576, 1048577, 1048578, 1048579, 1261874, ...   4122       10   \n",
       "11  {786432, 786433, 786434, 786435, 786436, 78643...   7729       11   \n",
       "12  {1589148, 1589149, 1589152, 1589153, 1589154, ...  11660       12   \n",
       "13  {1589248, 1138689, 1589252, 1138698, 876555, 9...   4895       13   \n",
       "14  {1228800, 1228801, 1597442, 1590777, 1228822, ...   4760       14   \n",
       "15  {1056769, 1056770, 1056774, 1245190, 1064970, ...   4422       15   \n",
       "16  {1245194, 1245195, 1507340, 1638414, 1245201, ...  15159       16   \n",
       "17  {557059, 294917, 16389, 1277957, 1130509, 6881...   4614       17   \n",
       "18  {1605634, 1376259, 655377, 655392, 1376294, 13...  11531       18   \n",
       "19  {1376259, 655392, 1376294, 1376295, 1277995, 2...  13865       19   \n",
       "20  {1277978, 1048631, 1278015, 1278021, 1278023, ...   7561       20   \n",
       "21  {589847, 589848, 589882, 1245243, 1245264, 124...  10759       21   \n",
       "22  {753664, 1048576, 1048578, 1048579, 1048577, 1...   4346       22   \n",
       "23  {655361, 1376257, 1376259, 491528, 1572888, 16...   5532       23   \n",
       "24  {385025, 1409026, 1163267, 1056773, 1409032, 2...   3720       24   \n",
       "25  {1736708, 1720326, 1507335, 1507337, 1507342, ...   4025       25   \n",
       "\n",
       "    Distance_From_C0  \n",
       "0           0.000000  \n",
       "1                inf  \n",
       "2                inf  \n",
       "3                inf  \n",
       "4                inf  \n",
       "5                inf  \n",
       "6                inf  \n",
       "7                inf  \n",
       "8           7.000000  \n",
       "9           7.000000  \n",
       "10               inf  \n",
       "11          8.000000  \n",
       "12               inf  \n",
       "13               inf  \n",
       "14          8.000000  \n",
       "15          7.000000  \n",
       "16          7.000000  \n",
       "17          8.000000  \n",
       "18          7.000000  \n",
       "19          7.000000  \n",
       "20          8.000000  \n",
       "21          7.000000  \n",
       "22               inf  \n",
       "23               inf  \n",
       "24               inf  \n",
       "25               inf  "
      ]
     },
     "execution_count": 48,
     "metadata": {},
     "output_type": "execute_result"
    }
   ],
   "source": [
    "graph_categories_df"
   ]
  },
  {
   "cell_type": "markdown",
   "metadata": {},
   "source": [
    "##### Sorted data frame according to Distance_From_C0"
   ]
  },
  {
   "cell_type": "code",
   "execution_count": 54,
   "metadata": {},
   "outputs": [],
   "source": [
    "graph_categories_df = graph_categories_df.sort_values(by=['Distance_From_C0']).reset_index(drop=True)"
   ]
  },
  {
   "cell_type": "code",
   "execution_count": 55,
   "metadata": {},
   "outputs": [
    {
     "data": {
      "text/html": [
       "<div>\n",
       "<style>\n",
       "    .dataframe thead tr:only-child th {\n",
       "        text-align: right;\n",
       "    }\n",
       "\n",
       "    .dataframe thead th {\n",
       "        text-align: left;\n",
       "    }\n",
       "\n",
       "    .dataframe tbody tr th {\n",
       "        vertical-align: top;\n",
       "    }\n",
       "</style>\n",
       "<table border=\"1\" class=\"dataframe\">\n",
       "  <thead>\n",
       "    <tr style=\"text-align: right;\">\n",
       "      <th></th>\n",
       "      <th>Categories</th>\n",
       "      <th>Articles</th>\n",
       "      <th>Count</th>\n",
       "      <th>C_index</th>\n",
       "      <th>Distance_From_C0</th>\n",
       "    </tr>\n",
       "  </thead>\n",
       "  <tbody>\n",
       "    <tr>\n",
       "      <th>0</th>\n",
       "      <td>English_footballers</td>\n",
       "      <td>{622642, 622644, 622647, 622649, 557114, 62266...</td>\n",
       "      <td>7538</td>\n",
       "      <td>0</td>\n",
       "      <td>0.000000</td>\n",
       "    </tr>\n",
       "    <tr>\n",
       "      <th>1</th>\n",
       "      <td>Black-and-white_films</td>\n",
       "      <td>{589847, 589848, 589882, 1245243, 1245264, 124...</td>\n",
       "      <td>10759</td>\n",
       "      <td>21</td>\n",
       "      <td>7.000000</td>\n",
       "    </tr>\n",
       "    <tr>\n",
       "      <th>2</th>\n",
       "      <td>American_film_actors</td>\n",
       "      <td>{1376259, 655392, 1376294, 1376295, 1277995, 2...</td>\n",
       "      <td>13865</td>\n",
       "      <td>19</td>\n",
       "      <td>7.000000</td>\n",
       "    </tr>\n",
       "    <tr>\n",
       "      <th>3</th>\n",
       "      <td>American_television_actors</td>\n",
       "      <td>{1605634, 1376259, 655377, 655392, 1376294, 13...</td>\n",
       "      <td>11531</td>\n",
       "      <td>18</td>\n",
       "      <td>7.000000</td>\n",
       "    </tr>\n",
       "    <tr>\n",
       "      <th>4</th>\n",
       "      <td>Members_of_the_United_Kingdom_Parliament_for_E...</td>\n",
       "      <td>{1048670, 1147049, 1147262, 1147295, 1507751, ...</td>\n",
       "      <td>6491</td>\n",
       "      <td>8</td>\n",
       "      <td>7.000000</td>\n",
       "    </tr>\n",
       "    <tr>\n",
       "      <th>5</th>\n",
       "      <td>Indian_films</td>\n",
       "      <td>{589824, 589825, 589826, 589827, 589828, 58982...</td>\n",
       "      <td>5568</td>\n",
       "      <td>9</td>\n",
       "      <td>7.000000</td>\n",
       "    </tr>\n",
       "    <tr>\n",
       "      <th>6</th>\n",
       "      <td>American_films</td>\n",
       "      <td>{1245194, 1245195, 1507340, 1638414, 1245201, ...</td>\n",
       "      <td>15159</td>\n",
       "      <td>16</td>\n",
       "      <td>7.000000</td>\n",
       "    </tr>\n",
       "    <tr>\n",
       "      <th>7</th>\n",
       "      <td>British_films</td>\n",
       "      <td>{1056769, 1056770, 1056774, 1245190, 1064970, ...</td>\n",
       "      <td>4422</td>\n",
       "      <td>15</td>\n",
       "      <td>7.000000</td>\n",
       "    </tr>\n",
       "    <tr>\n",
       "      <th>8</th>\n",
       "      <td>Debut_albums</td>\n",
       "      <td>{1277978, 1048631, 1278015, 1278021, 1278023, ...</td>\n",
       "      <td>7561</td>\n",
       "      <td>20</td>\n",
       "      <td>8.000000</td>\n",
       "    </tr>\n",
       "    <tr>\n",
       "      <th>9</th>\n",
       "      <td>People_from_New_York_City</td>\n",
       "      <td>{557059, 294917, 16389, 1277957, 1130509, 6881...</td>\n",
       "      <td>4614</td>\n",
       "      <td>17</td>\n",
       "      <td>8.000000</td>\n",
       "    </tr>\n",
       "    <tr>\n",
       "      <th>10</th>\n",
       "      <td>Rivers_of_Romania</td>\n",
       "      <td>{786432, 786433, 786434, 786435, 786436, 78643...</td>\n",
       "      <td>7729</td>\n",
       "      <td>11</td>\n",
       "      <td>8.000000</td>\n",
       "    </tr>\n",
       "    <tr>\n",
       "      <th>11</th>\n",
       "      <td>English-language_albums</td>\n",
       "      <td>{1228800, 1228801, 1597442, 1590777, 1228822, ...</td>\n",
       "      <td>4760</td>\n",
       "      <td>14</td>\n",
       "      <td>8.000000</td>\n",
       "    </tr>\n",
       "    <tr>\n",
       "      <th>12</th>\n",
       "      <td>Place_of_birth_missing_(living_people)</td>\n",
       "      <td>{655361, 1376257, 1376259, 491528, 1572888, 16...</td>\n",
       "      <td>5532</td>\n",
       "      <td>23</td>\n",
       "      <td>inf</td>\n",
       "    </tr>\n",
       "    <tr>\n",
       "      <th>13</th>\n",
       "      <td>Year_of_birth_missing</td>\n",
       "      <td>{753664, 1048576, 1048578, 1048579, 1048577, 1...</td>\n",
       "      <td>4346</td>\n",
       "      <td>22</td>\n",
       "      <td>inf</td>\n",
       "    </tr>\n",
       "    <tr>\n",
       "      <th>14</th>\n",
       "      <td>Main_Belt_asteroids</td>\n",
       "      <td>{1589148, 1589149, 1589152, 1589153, 1589154, ...</td>\n",
       "      <td>11660</td>\n",
       "      <td>12</td>\n",
       "      <td>inf</td>\n",
       "    </tr>\n",
       "    <tr>\n",
       "      <th>15</th>\n",
       "      <td>American_military_personnel_of_World_War_II</td>\n",
       "      <td>{385025, 1409026, 1163267, 1056773, 1409032, 2...</td>\n",
       "      <td>3720</td>\n",
       "      <td>24</td>\n",
       "      <td>inf</td>\n",
       "    </tr>\n",
       "    <tr>\n",
       "      <th>16</th>\n",
       "      <td>Year_of_death_missing</td>\n",
       "      <td>{1048576, 1048577, 1048578, 1048579, 1261874, ...</td>\n",
       "      <td>4122</td>\n",
       "      <td>10</td>\n",
       "      <td>inf</td>\n",
       "    </tr>\n",
       "    <tr>\n",
       "      <th>17</th>\n",
       "      <td>Major_League_Baseball_pitchers</td>\n",
       "      <td>{385024, 385025, 385027, 376838, 385032, 37684...</td>\n",
       "      <td>5192</td>\n",
       "      <td>7</td>\n",
       "      <td>inf</td>\n",
       "    </tr>\n",
       "    <tr>\n",
       "      <th>18</th>\n",
       "      <td>Harvard_University_alumni</td>\n",
       "      <td>{1638406, 1638409, 1245204, 294956, 1048629, 6...</td>\n",
       "      <td>5549</td>\n",
       "      <td>6</td>\n",
       "      <td>inf</td>\n",
       "    </tr>\n",
       "    <tr>\n",
       "      <th>19</th>\n",
       "      <td>Association_football_defenders</td>\n",
       "      <td>{81920, 1359875, 1359879, 802827, 81936, 10651...</td>\n",
       "      <td>4588</td>\n",
       "      <td>5</td>\n",
       "      <td>inf</td>\n",
       "    </tr>\n",
       "    <tr>\n",
       "      <th>20</th>\n",
       "      <td>Association_football_midfielders</td>\n",
       "      <td>{1671168, 884755, 884774, 622637, 1671214, 167...</td>\n",
       "      <td>5827</td>\n",
       "      <td>4</td>\n",
       "      <td>inf</td>\n",
       "    </tr>\n",
       "    <tr>\n",
       "      <th>21</th>\n",
       "      <td>Association_football_goalkeepers</td>\n",
       "      <td>{737292, 737293, 1671183, 73743, 106515, 10651...</td>\n",
       "      <td>3737</td>\n",
       "      <td>3</td>\n",
       "      <td>inf</td>\n",
       "    </tr>\n",
       "    <tr>\n",
       "      <th>22</th>\n",
       "      <td>Association_football_forwards</td>\n",
       "      <td>{81922, 90119, 73736, 81928, 1359881, 81930, 7...</td>\n",
       "      <td>5097</td>\n",
       "      <td>2</td>\n",
       "      <td>inf</td>\n",
       "    </tr>\n",
       "    <tr>\n",
       "      <th>23</th>\n",
       "      <td>The_Football_League_players</td>\n",
       "      <td>{1671189, 622644, 622647, 622649, 557114, 1245...</td>\n",
       "      <td>7814</td>\n",
       "      <td>1</td>\n",
       "      <td>inf</td>\n",
       "    </tr>\n",
       "    <tr>\n",
       "      <th>24</th>\n",
       "      <td>Asteroids_named_for_people</td>\n",
       "      <td>{1589248, 1138689, 1589252, 1138698, 876555, 9...</td>\n",
       "      <td>4895</td>\n",
       "      <td>13</td>\n",
       "      <td>inf</td>\n",
       "    </tr>\n",
       "    <tr>\n",
       "      <th>25</th>\n",
       "      <td>Windows_games</td>\n",
       "      <td>{1736708, 1720326, 1507335, 1507337, 1507342, ...</td>\n",
       "      <td>4025</td>\n",
       "      <td>25</td>\n",
       "      <td>inf</td>\n",
       "    </tr>\n",
       "  </tbody>\n",
       "</table>\n",
       "</div>"
      ],
      "text/plain": [
       "                                           Categories  \\\n",
       "0                                 English_footballers   \n",
       "1                               Black-and-white_films   \n",
       "2                                American_film_actors   \n",
       "3                          American_television_actors   \n",
       "4   Members_of_the_United_Kingdom_Parliament_for_E...   \n",
       "5                                        Indian_films   \n",
       "6                                      American_films   \n",
       "7                                       British_films   \n",
       "8                                        Debut_albums   \n",
       "9                           People_from_New_York_City   \n",
       "10                                  Rivers_of_Romania   \n",
       "11                            English-language_albums   \n",
       "12             Place_of_birth_missing_(living_people)   \n",
       "13                              Year_of_birth_missing   \n",
       "14                                Main_Belt_asteroids   \n",
       "15        American_military_personnel_of_World_War_II   \n",
       "16                              Year_of_death_missing   \n",
       "17                     Major_League_Baseball_pitchers   \n",
       "18                          Harvard_University_alumni   \n",
       "19                     Association_football_defenders   \n",
       "20                   Association_football_midfielders   \n",
       "21                   Association_football_goalkeepers   \n",
       "22                      Association_football_forwards   \n",
       "23                        The_Football_League_players   \n",
       "24                         Asteroids_named_for_people   \n",
       "25                                      Windows_games   \n",
       "\n",
       "                                             Articles  Count  C_index  \\\n",
       "0   {622642, 622644, 622647, 622649, 557114, 62266...   7538        0   \n",
       "1   {589847, 589848, 589882, 1245243, 1245264, 124...  10759       21   \n",
       "2   {1376259, 655392, 1376294, 1376295, 1277995, 2...  13865       19   \n",
       "3   {1605634, 1376259, 655377, 655392, 1376294, 13...  11531       18   \n",
       "4   {1048670, 1147049, 1147262, 1147295, 1507751, ...   6491        8   \n",
       "5   {589824, 589825, 589826, 589827, 589828, 58982...   5568        9   \n",
       "6   {1245194, 1245195, 1507340, 1638414, 1245201, ...  15159       16   \n",
       "7   {1056769, 1056770, 1056774, 1245190, 1064970, ...   4422       15   \n",
       "8   {1277978, 1048631, 1278015, 1278021, 1278023, ...   7561       20   \n",
       "9   {557059, 294917, 16389, 1277957, 1130509, 6881...   4614       17   \n",
       "10  {786432, 786433, 786434, 786435, 786436, 78643...   7729       11   \n",
       "11  {1228800, 1228801, 1597442, 1590777, 1228822, ...   4760       14   \n",
       "12  {655361, 1376257, 1376259, 491528, 1572888, 16...   5532       23   \n",
       "13  {753664, 1048576, 1048578, 1048579, 1048577, 1...   4346       22   \n",
       "14  {1589148, 1589149, 1589152, 1589153, 1589154, ...  11660       12   \n",
       "15  {385025, 1409026, 1163267, 1056773, 1409032, 2...   3720       24   \n",
       "16  {1048576, 1048577, 1048578, 1048579, 1261874, ...   4122       10   \n",
       "17  {385024, 385025, 385027, 376838, 385032, 37684...   5192        7   \n",
       "18  {1638406, 1638409, 1245204, 294956, 1048629, 6...   5549        6   \n",
       "19  {81920, 1359875, 1359879, 802827, 81936, 10651...   4588        5   \n",
       "20  {1671168, 884755, 884774, 622637, 1671214, 167...   5827        4   \n",
       "21  {737292, 737293, 1671183, 73743, 106515, 10651...   3737        3   \n",
       "22  {81922, 90119, 73736, 81928, 1359881, 81930, 7...   5097        2   \n",
       "23  {1671189, 622644, 622647, 622649, 557114, 1245...   7814        1   \n",
       "24  {1589248, 1138689, 1589252, 1138698, 876555, 9...   4895       13   \n",
       "25  {1736708, 1720326, 1507335, 1507337, 1507342, ...   4025       25   \n",
       "\n",
       "    Distance_From_C0  \n",
       "0           0.000000  \n",
       "1           7.000000  \n",
       "2           7.000000  \n",
       "3           7.000000  \n",
       "4           7.000000  \n",
       "5           7.000000  \n",
       "6           7.000000  \n",
       "7           7.000000  \n",
       "8           8.000000  \n",
       "9           8.000000  \n",
       "10          8.000000  \n",
       "11          8.000000  \n",
       "12               inf  \n",
       "13               inf  \n",
       "14               inf  \n",
       "15               inf  \n",
       "16               inf  \n",
       "17               inf  \n",
       "18               inf  \n",
       "19               inf  \n",
       "20               inf  \n",
       "21               inf  \n",
       "22               inf  \n",
       "23               inf  \n",
       "24               inf  \n",
       "25               inf  "
      ]
     },
     "execution_count": 55,
     "metadata": {},
     "output_type": "execute_result"
    }
   ],
   "source": [
    "graph_categories_df"
   ]
  },
  {
   "cell_type": "markdown",
   "metadata": {},
   "source": [
    "Putting all article lists in a list for the next ranking."
   ]
  },
  {
   "cell_type": "code",
   "execution_count": 59,
   "metadata": {},
   "outputs": [],
   "source": [
    "ordered_categories = []\n",
    "for row in graph_categories_df['Articles']:\n",
    "    ordered_categories.append(list(row))"
   ]
  },
  {
   "cell_type": "markdown",
   "metadata": {},
   "source": [
    "# b. Rank all the nodes in each category"
   ]
  },
  {
   "cell_type": "code",
   "execution_count": 62,
   "metadata": {
    "collapsed": true
   },
   "outputs": [],
   "source": [
    "# creating the initial graph as a list of tuples using NetworkX \n",
    "initial_gr = networkx.DiGraph(out_Link)"
   ]
  },
  {
   "cell_type": "code",
   "execution_count": 64,
   "metadata": {
    "collapsed": true
   },
   "outputs": [],
   "source": [
    "# creating an induced graph from input category C0\n",
    "# category C0 = \"English_footballers\" with len(C0) = 1000\n",
    "C0_sub = initial_gr.subgraph(C0)#induced subgraph from C0\n",
    "# in_degree_dict gives us a dictionary of all the nodes with in-coming \n",
    "# edges as keys and their degree\n",
    "in_degree_dict = collections.OrderedDict(C0_sub.in_degree(C0))\n",
    "# we need to sort based on the degree of each node\n",
    "sorted_ = []\n",
    "# creating a list of tuples out of the dictionary, sorted by the second \n",
    "# item of each tuple which is node in_degree\n",
    "sorted_.append(sorted(in_degree_dict.items(), key=lambda x: x[1]))"
   ]
  },
  {
   "cell_type": "code",
   "execution_count": 65,
   "metadata": {},
   "outputs": [
    {
     "name": "stderr",
     "output_type": "stream",
     "text": [
      "100%|██████████████████████████████████████████████████████████████████████████████████| 25/25 [01:14<00:00,  3.11s/it]\n"
     ]
    }
   ],
   "source": [
    "#from the second category(C1) onward in ordered_categories list: \n",
    "for category in tqdm(ordered_categories[1:]):\n",
    "    empty_ = []\n",
    "    Ci = category \n",
    "    # we don't consider nodes shared among Ci and C0 as those already have their scores\n",
    "    Ci = set(Ci).difference(set(C0))\n",
    "    #creating an induced graph of the union of Ci and C0\n",
    "    induced_gr = initial_gr.subgraph(set(C0).union(set(Ci)))\n",
    "    #calculating the in_degree score for all the nodes in Ci (Ci = Ci.difference(C0))\n",
    "    for i, node in enumerate(Ci):\n",
    "        score = 0\n",
    "        #if  list of in-coming edges for node is empty then score = 0\n",
    "        if len(induced_gr.in_edges(node)) == 0:\n",
    "            score = 0\n",
    "    \n",
    "        else:\n",
    "            # we check for every item in the form of (source, destination) \n",
    "            # in in-coming edges list\n",
    "            for item in induced_gr.in_edges(node):\n",
    "                #if source is in Ci, score+=1\n",
    "                if item[0] in Ci:\n",
    "                    score += 1\n",
    "                # if not in Ci, then that edge has the weight equal to source node's score\n",
    "                if item[0] in list(in_degree_dict.keys()):\n",
    "                    score += in_degree_dict[item[0]]\n",
    "        \n",
    "        empty_.append((node,score))\n",
    "    \n",
    "\n",
    "    empty_ = sorted(empty_, key=lambda x: x[1])\n",
    "    #a list of lists. Each list comprised by tuples\n",
    "    sorted_.append(empty_)\n",
    "    \n",
    "    C0 = induced_gr.nodes()"
   ]
  },
  {
   "cell_type": "markdown",
   "metadata": {},
   "source": [
    "So the length of sorted is 26, which is the number of categories including C0."
   ]
  },
  {
   "cell_type": "code",
   "execution_count": 66,
   "metadata": {},
   "outputs": [
    {
     "data": {
      "text/plain": [
       "26"
      ]
     },
     "execution_count": 66,
     "metadata": {},
     "output_type": "execute_result"
    }
   ],
   "source": [
    "len(sorted_)"
   ]
  },
  {
   "cell_type": "markdown",
   "metadata": {},
   "source": [
    "Each element of list 'sorted_'_ is sorted in ascending order. Below we can see first 10 elements of C0 and also last 10 elements, which have thw biggest node score."
   ]
  },
  {
   "cell_type": "code",
   "execution_count": 70,
   "metadata": {},
   "outputs": [
    {
     "name": "stdout",
     "output_type": "stream",
     "text": [
      "[(622642, 0), (622644, 0), (622647, 0), (622649, 0), (557114, 0), (622661, 0), (622678, 0), (622686, 0), (622687, 0), (622690, 0)]\n",
      "[(72654, 5), (72711, 5), (72746, 5), (72749, 5), (72750, 5), (72825, 5), (72710, 7), (72712, 7), (72795, 8), (72738, 9)]\n"
     ]
    }
   ],
   "source": [
    "print(sorted_[0][:10])\n",
    "print(sorted_[0][-10:])"
   ]
  },
  {
   "cell_type": "code",
   "execution_count": 73,
   "metadata": {},
   "outputs": [],
   "source": [
    "# here is saving sorted_ to a file\n",
    "w = csv.writer(open(\"R2_sorted_nodes.csv\", \"w\"))\n",
    "for item in sorted_:\n",
    "    w.writerow([item])"
   ]
  }
 ],
 "metadata": {
  "kernelspec": {
   "display_name": "Python 3",
   "language": "python",
   "name": "python3"
  },
  "language_info": {
   "codemirror_mode": {
    "name": "ipython",
    "version": 3
   },
   "file_extension": ".py",
   "mimetype": "text/x-python",
   "name": "python",
   "nbconvert_exporter": "python",
   "pygments_lexer": "ipython3",
   "version": "3.7.0"
  }
 },
 "nbformat": 4,
 "nbformat_minor": 2
}
